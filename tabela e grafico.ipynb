{
 "cells": [
  {
   "cell_type": "code",
   "execution_count": 45,
   "metadata": {
    "collapsed": true
   },
   "outputs": [],
   "source": [
    "import pandas as pd\n",
    "import json\n",
    "import itertools\n",
    "import numpy as np\n",
    "import matplotlib.pyplot as plt\n",
    "%matplotlib inline"
   ]
  },
  {
   "cell_type": "code",
   "execution_count": 2,
   "metadata": {
    "collapsed": false
   },
   "outputs": [],
   "source": [
    "arquivo = open(\"testeab-8de6a-export.json\")\n",
    "linhas = arquivo.readlines()\n",
    "texto = \"\".join(linhas)\n",
    "dados_fire = json.loads(texto)"
   ]
  },
  {
   "cell_type": "code",
   "execution_count": 3,
   "metadata": {
    "collapsed": false
   },
   "outputs": [],
   "source": [
    "for k,v in dados_fire[\"testeab-8de6a\"].items():\n",
    "    # print(k,v) # habilite para imprimir as chaves de mais alto nível\n",
    "    for chave, valor in v.items():\n",
    "        # print(chave, valor) # habilite para imprimir as chaves inferiores\n",
    "        pass # desabilite quando reabilitar a linha de cima"
   ]
  },
  {
   "cell_type": "code",
   "execution_count": 4,
   "metadata": {
    "collapsed": false
   },
   "outputs": [],
   "source": [
    "lista_dicionarios = []\n",
    "\n",
    "for k,v in dados_fire[\"testeab-8de6a\"].items():\n",
    "    lista_dicionarios.append(v)\n",
    "\n",
    "        "
   ]
  },
  {
   "cell_type": "code",
   "execution_count": 5,
   "metadata": {
    "collapsed": true
   },
   "outputs": [],
   "source": [
    "dataframe = pd.DataFrame.from_records(lista_dicionarios)"
   ]
  },
  {
   "cell_type": "code",
   "execution_count": 6,
   "metadata": {
    "collapsed": false,
    "scrolled": true
   },
   "outputs": [
    {
     "data": {
      "text/html": [
       "<div>\n",
       "<table border=\"1\" class=\"dataframe\">\n",
       "  <thead>\n",
       "    <tr style=\"text-align: right;\">\n",
       "      <th></th>\n",
       "      <th>tempo</th>\n",
       "      <th>tipo</th>\n",
       "      <th>user_id</th>\n",
       "      <th>versao</th>\n",
       "    </tr>\n",
       "  </thead>\n",
       "  <tbody>\n",
       "    <tr>\n",
       "      <th>0</th>\n",
       "      <td>1479317170088</td>\n",
       "      <td>medio</td>\n",
       "      <td>3774183163</td>\n",
       "      <td>B</td>\n",
       "    </tr>\n",
       "    <tr>\n",
       "      <th>1</th>\n",
       "      <td>1479316754142</td>\n",
       "      <td>inicio</td>\n",
       "      <td>1952057959</td>\n",
       "      <td>B</td>\n",
       "    </tr>\n",
       "    <tr>\n",
       "      <th>2</th>\n",
       "      <td>1478528750150</td>\n",
       "      <td>medio</td>\n",
       "      <td>1321453813</td>\n",
       "      <td>B</td>\n",
       "    </tr>\n",
       "    <tr>\n",
       "      <th>3</th>\n",
       "      <td>1478263247180</td>\n",
       "      <td>inicio</td>\n",
       "      <td>2299771869</td>\n",
       "      <td>B</td>\n",
       "    </tr>\n",
       "    <tr>\n",
       "      <th>4</th>\n",
       "      <td>1478262997557</td>\n",
       "      <td>medio</td>\n",
       "      <td>931274072</td>\n",
       "      <td>A</td>\n",
       "    </tr>\n",
       "    <tr>\n",
       "      <th>5</th>\n",
       "      <td>1479317801677</td>\n",
       "      <td>medio</td>\n",
       "      <td>3774183163</td>\n",
       "      <td>A</td>\n",
       "    </tr>\n",
       "    <tr>\n",
       "      <th>6</th>\n",
       "      <td>1479317588148</td>\n",
       "      <td>medio</td>\n",
       "      <td>3774183163</td>\n",
       "      <td>B</td>\n",
       "    </tr>\n",
       "    <tr>\n",
       "      <th>7</th>\n",
       "      <td>1478263040099</td>\n",
       "      <td>final</td>\n",
       "      <td>931274072</td>\n",
       "      <td>B</td>\n",
       "    </tr>\n",
       "    <tr>\n",
       "      <th>8</th>\n",
       "      <td>1478524137539</td>\n",
       "      <td>inicio</td>\n",
       "      <td>2498306715</td>\n",
       "      <td>A</td>\n",
       "    </tr>\n",
       "    <tr>\n",
       "      <th>9</th>\n",
       "      <td>1478536958799</td>\n",
       "      <td>inicio</td>\n",
       "      <td>3771431033</td>\n",
       "      <td>A</td>\n",
       "    </tr>\n",
       "    <tr>\n",
       "      <th>10</th>\n",
       "      <td>1478598807704</td>\n",
       "      <td>inicio</td>\n",
       "      <td>1561760900</td>\n",
       "      <td>A</td>\n",
       "    </tr>\n",
       "    <tr>\n",
       "      <th>11</th>\n",
       "      <td>1478542453152</td>\n",
       "      <td>inicio</td>\n",
       "      <td>3563937844</td>\n",
       "      <td>A</td>\n",
       "    </tr>\n",
       "    <tr>\n",
       "      <th>12</th>\n",
       "      <td>1479317361914</td>\n",
       "      <td>inicio</td>\n",
       "      <td>3187205062</td>\n",
       "      <td>A</td>\n",
       "    </tr>\n",
       "    <tr>\n",
       "      <th>13</th>\n",
       "      <td>1479316756562</td>\n",
       "      <td>medio</td>\n",
       "      <td>226968087</td>\n",
       "      <td>B</td>\n",
       "    </tr>\n",
       "    <tr>\n",
       "      <th>14</th>\n",
       "      <td>1478606938953</td>\n",
       "      <td>medio</td>\n",
       "      <td>3167377320</td>\n",
       "      <td>A</td>\n",
       "    </tr>\n",
       "    <tr>\n",
       "      <th>15</th>\n",
       "      <td>1478288419856</td>\n",
       "      <td>inicio</td>\n",
       "      <td>3309030230</td>\n",
       "      <td>A</td>\n",
       "    </tr>\n",
       "    <tr>\n",
       "      <th>16</th>\n",
       "      <td>1478528768340</td>\n",
       "      <td>medio</td>\n",
       "      <td>1321453813</td>\n",
       "      <td>B</td>\n",
       "    </tr>\n",
       "    <tr>\n",
       "      <th>17</th>\n",
       "      <td>1478566672400</td>\n",
       "      <td>inicio</td>\n",
       "      <td>968803455</td>\n",
       "      <td>A</td>\n",
       "    </tr>\n",
       "    <tr>\n",
       "      <th>18</th>\n",
       "      <td>1478531908140</td>\n",
       "      <td>inicio</td>\n",
       "      <td>3453439450</td>\n",
       "      <td>B</td>\n",
       "    </tr>\n",
       "    <tr>\n",
       "      <th>19</th>\n",
       "      <td>1479317338548</td>\n",
       "      <td>medio</td>\n",
       "      <td>3187205062</td>\n",
       "      <td>B</td>\n",
       "    </tr>\n",
       "    <tr>\n",
       "      <th>20</th>\n",
       "      <td>1479317795717</td>\n",
       "      <td>inicio</td>\n",
       "      <td>3774183163</td>\n",
       "      <td>A</td>\n",
       "    </tr>\n",
       "    <tr>\n",
       "      <th>21</th>\n",
       "      <td>1478526343159</td>\n",
       "      <td>inicio</td>\n",
       "      <td>3649128606</td>\n",
       "      <td>B</td>\n",
       "    </tr>\n",
       "    <tr>\n",
       "      <th>22</th>\n",
       "      <td>1479316776298</td>\n",
       "      <td>final</td>\n",
       "      <td>1952057959</td>\n",
       "      <td>A</td>\n",
       "    </tr>\n",
       "    <tr>\n",
       "      <th>23</th>\n",
       "      <td>1478527183319</td>\n",
       "      <td>medio</td>\n",
       "      <td>459832871</td>\n",
       "      <td>A</td>\n",
       "    </tr>\n",
       "    <tr>\n",
       "      <th>24</th>\n",
       "      <td>1479317429040</td>\n",
       "      <td>inicio</td>\n",
       "      <td>3946099743</td>\n",
       "      <td>A</td>\n",
       "    </tr>\n",
       "    <tr>\n",
       "      <th>25</th>\n",
       "      <td>1478531986841</td>\n",
       "      <td>inicio</td>\n",
       "      <td>1873516092</td>\n",
       "      <td>A</td>\n",
       "    </tr>\n",
       "    <tr>\n",
       "      <th>26</th>\n",
       "      <td>1478349343423</td>\n",
       "      <td>inicio</td>\n",
       "      <td>3187205062</td>\n",
       "      <td>B</td>\n",
       "    </tr>\n",
       "    <tr>\n",
       "      <th>27</th>\n",
       "      <td>1479317804402</td>\n",
       "      <td>final</td>\n",
       "      <td>3774183163</td>\n",
       "      <td>A</td>\n",
       "    </tr>\n",
       "    <tr>\n",
       "      <th>28</th>\n",
       "      <td>1478523378296</td>\n",
       "      <td>inicio</td>\n",
       "      <td>3004167413</td>\n",
       "      <td>A</td>\n",
       "    </tr>\n",
       "    <tr>\n",
       "      <th>29</th>\n",
       "      <td>1478528694978</td>\n",
       "      <td>inicio</td>\n",
       "      <td>1321453813</td>\n",
       "      <td>B</td>\n",
       "    </tr>\n",
       "    <tr>\n",
       "      <th>...</th>\n",
       "      <td>...</td>\n",
       "      <td>...</td>\n",
       "      <td>...</td>\n",
       "      <td>...</td>\n",
       "    </tr>\n",
       "    <tr>\n",
       "      <th>139</th>\n",
       "      <td>1478525267699</td>\n",
       "      <td>inicio</td>\n",
       "      <td>278835118</td>\n",
       "      <td>A</td>\n",
       "    </tr>\n",
       "    <tr>\n",
       "      <th>140</th>\n",
       "      <td>1479316819488</td>\n",
       "      <td>inicio</td>\n",
       "      <td>226968087</td>\n",
       "      <td>A</td>\n",
       "    </tr>\n",
       "    <tr>\n",
       "      <th>141</th>\n",
       "      <td>1478534138476</td>\n",
       "      <td>inicio</td>\n",
       "      <td>465147348</td>\n",
       "      <td>B</td>\n",
       "    </tr>\n",
       "    <tr>\n",
       "      <th>142</th>\n",
       "      <td>1478523971031</td>\n",
       "      <td>final</td>\n",
       "      <td>637707993</td>\n",
       "      <td>B</td>\n",
       "    </tr>\n",
       "    <tr>\n",
       "      <th>143</th>\n",
       "      <td>1478518100162</td>\n",
       "      <td>medio</td>\n",
       "      <td>328675274</td>\n",
       "      <td>B</td>\n",
       "    </tr>\n",
       "    <tr>\n",
       "      <th>144</th>\n",
       "      <td>1479317355439</td>\n",
       "      <td>inicio</td>\n",
       "      <td>3774183163</td>\n",
       "      <td>B</td>\n",
       "    </tr>\n",
       "    <tr>\n",
       "      <th>145</th>\n",
       "      <td>1478525299450</td>\n",
       "      <td>final</td>\n",
       "      <td>278835118</td>\n",
       "      <td>B</td>\n",
       "    </tr>\n",
       "    <tr>\n",
       "      <th>146</th>\n",
       "      <td>1479317174646</td>\n",
       "      <td>final</td>\n",
       "      <td>3774183163</td>\n",
       "      <td>B</td>\n",
       "    </tr>\n",
       "    <tr>\n",
       "      <th>147</th>\n",
       "      <td>1478526348892</td>\n",
       "      <td>medio</td>\n",
       "      <td>3649128606</td>\n",
       "      <td>B</td>\n",
       "    </tr>\n",
       "    <tr>\n",
       "      <th>148</th>\n",
       "      <td>1478568654925</td>\n",
       "      <td>final</td>\n",
       "      <td>521147624</td>\n",
       "      <td>B</td>\n",
       "    </tr>\n",
       "    <tr>\n",
       "      <th>149</th>\n",
       "      <td>1478531039665</td>\n",
       "      <td>final</td>\n",
       "      <td>105061458</td>\n",
       "      <td>A</td>\n",
       "    </tr>\n",
       "    <tr>\n",
       "      <th>150</th>\n",
       "      <td>1478288449064</td>\n",
       "      <td>final</td>\n",
       "      <td>3309030230</td>\n",
       "      <td>B</td>\n",
       "    </tr>\n",
       "    <tr>\n",
       "      <th>151</th>\n",
       "      <td>1478531967049</td>\n",
       "      <td>inicio</td>\n",
       "      <td>1873516092</td>\n",
       "      <td>A</td>\n",
       "    </tr>\n",
       "    <tr>\n",
       "      <th>152</th>\n",
       "      <td>1479317581285</td>\n",
       "      <td>inicio</td>\n",
       "      <td>3774183163</td>\n",
       "      <td>B</td>\n",
       "    </tr>\n",
       "    <tr>\n",
       "      <th>153</th>\n",
       "      <td>1478348810862</td>\n",
       "      <td>inicio</td>\n",
       "      <td>3187205062</td>\n",
       "      <td>B</td>\n",
       "    </tr>\n",
       "    <tr>\n",
       "      <th>154</th>\n",
       "      <td>1478700078003</td>\n",
       "      <td>inicio</td>\n",
       "      <td>1077501661</td>\n",
       "      <td>A</td>\n",
       "    </tr>\n",
       "    <tr>\n",
       "      <th>155</th>\n",
       "      <td>1478553278910</td>\n",
       "      <td>medio</td>\n",
       "      <td>2882347129</td>\n",
       "      <td>A</td>\n",
       "    </tr>\n",
       "    <tr>\n",
       "      <th>156</th>\n",
       "      <td>1478354821620</td>\n",
       "      <td>inicio</td>\n",
       "      <td>1437971819</td>\n",
       "      <td>B</td>\n",
       "    </tr>\n",
       "    <tr>\n",
       "      <th>157</th>\n",
       "      <td>1478524673039</td>\n",
       "      <td>inicio</td>\n",
       "      <td>637707993</td>\n",
       "      <td>B</td>\n",
       "    </tr>\n",
       "    <tr>\n",
       "      <th>158</th>\n",
       "      <td>1479317364435</td>\n",
       "      <td>medio</td>\n",
       "      <td>3187205062</td>\n",
       "      <td>A</td>\n",
       "    </tr>\n",
       "    <tr>\n",
       "      <th>159</th>\n",
       "      <td>1478606936826</td>\n",
       "      <td>inicio</td>\n",
       "      <td>3167377320</td>\n",
       "      <td>A</td>\n",
       "    </tr>\n",
       "    <tr>\n",
       "      <th>160</th>\n",
       "      <td>1478525382053</td>\n",
       "      <td>medio</td>\n",
       "      <td>1267223128</td>\n",
       "      <td>A</td>\n",
       "    </tr>\n",
       "    <tr>\n",
       "      <th>161</th>\n",
       "      <td>1479316825200</td>\n",
       "      <td>medio</td>\n",
       "      <td>3774183163</td>\n",
       "      <td>B</td>\n",
       "    </tr>\n",
       "    <tr>\n",
       "      <th>162</th>\n",
       "      <td>1478523639277</td>\n",
       "      <td>medio</td>\n",
       "      <td>1154051230</td>\n",
       "      <td>A</td>\n",
       "    </tr>\n",
       "    <tr>\n",
       "      <th>163</th>\n",
       "      <td>1478549949279</td>\n",
       "      <td>inicio</td>\n",
       "      <td>3167377320</td>\n",
       "      <td>A</td>\n",
       "    </tr>\n",
       "    <tr>\n",
       "      <th>164</th>\n",
       "      <td>1478523541414</td>\n",
       "      <td>inicio</td>\n",
       "      <td>1154051230</td>\n",
       "      <td>B</td>\n",
       "    </tr>\n",
       "    <tr>\n",
       "      <th>165</th>\n",
       "      <td>1478531958087</td>\n",
       "      <td>inicio</td>\n",
       "      <td>1873516092</td>\n",
       "      <td>A</td>\n",
       "    </tr>\n",
       "    <tr>\n",
       "      <th>166</th>\n",
       "      <td>1478518098535</td>\n",
       "      <td>inicio</td>\n",
       "      <td>328675274</td>\n",
       "      <td>B</td>\n",
       "    </tr>\n",
       "    <tr>\n",
       "      <th>167</th>\n",
       "      <td>1478357195378</td>\n",
       "      <td>final</td>\n",
       "      <td>3141974280</td>\n",
       "      <td>A</td>\n",
       "    </tr>\n",
       "    <tr>\n",
       "      <th>168</th>\n",
       "      <td>1478524519770</td>\n",
       "      <td>inicio</td>\n",
       "      <td>3611738504</td>\n",
       "      <td>A</td>\n",
       "    </tr>\n",
       "  </tbody>\n",
       "</table>\n",
       "<p>169 rows × 4 columns</p>\n",
       "</div>"
      ],
      "text/plain": [
       "             tempo    tipo     user_id versao\n",
       "0    1479317170088   medio  3774183163      B\n",
       "1    1479316754142  inicio  1952057959      B\n",
       "2    1478528750150   medio  1321453813      B\n",
       "3    1478263247180  inicio  2299771869      B\n",
       "4    1478262997557   medio   931274072      A\n",
       "5    1479317801677   medio  3774183163      A\n",
       "6    1479317588148   medio  3774183163      B\n",
       "7    1478263040099   final   931274072      B\n",
       "8    1478524137539  inicio  2498306715      A\n",
       "9    1478536958799  inicio  3771431033      A\n",
       "10   1478598807704  inicio  1561760900      A\n",
       "11   1478542453152  inicio  3563937844      A\n",
       "12   1479317361914  inicio  3187205062      A\n",
       "13   1479316756562   medio   226968087      B\n",
       "14   1478606938953   medio  3167377320      A\n",
       "15   1478288419856  inicio  3309030230      A\n",
       "16   1478528768340   medio  1321453813      B\n",
       "17   1478566672400  inicio   968803455      A\n",
       "18   1478531908140  inicio  3453439450      B\n",
       "19   1479317338548   medio  3187205062      B\n",
       "20   1479317795717  inicio  3774183163      A\n",
       "21   1478526343159  inicio  3649128606      B\n",
       "22   1479316776298   final  1952057959      A\n",
       "23   1478527183319   medio   459832871      A\n",
       "24   1479317429040  inicio  3946099743      A\n",
       "25   1478531986841  inicio  1873516092      A\n",
       "26   1478349343423  inicio  3187205062      B\n",
       "27   1479317804402   final  3774183163      A\n",
       "28   1478523378296  inicio  3004167413      A\n",
       "29   1478528694978  inicio  1321453813      B\n",
       "..             ...     ...         ...    ...\n",
       "139  1478525267699  inicio   278835118      A\n",
       "140  1479316819488  inicio   226968087      A\n",
       "141  1478534138476  inicio   465147348      B\n",
       "142  1478523971031   final   637707993      B\n",
       "143  1478518100162   medio   328675274      B\n",
       "144  1479317355439  inicio  3774183163      B\n",
       "145  1478525299450   final   278835118      B\n",
       "146  1479317174646   final  3774183163      B\n",
       "147  1478526348892   medio  3649128606      B\n",
       "148  1478568654925   final   521147624      B\n",
       "149  1478531039665   final   105061458      A\n",
       "150  1478288449064   final  3309030230      B\n",
       "151  1478531967049  inicio  1873516092      A\n",
       "152  1479317581285  inicio  3774183163      B\n",
       "153  1478348810862  inicio  3187205062      B\n",
       "154  1478700078003  inicio  1077501661      A\n",
       "155  1478553278910   medio  2882347129      A\n",
       "156  1478354821620  inicio  1437971819      B\n",
       "157  1478524673039  inicio   637707993      B\n",
       "158  1479317364435   medio  3187205062      A\n",
       "159  1478606936826  inicio  3167377320      A\n",
       "160  1478525382053   medio  1267223128      A\n",
       "161  1479316825200   medio  3774183163      B\n",
       "162  1478523639277   medio  1154051230      A\n",
       "163  1478549949279  inicio  3167377320      A\n",
       "164  1478523541414  inicio  1154051230      B\n",
       "165  1478531958087  inicio  1873516092      A\n",
       "166  1478518098535  inicio   328675274      B\n",
       "167  1478357195378   final  3141974280      A\n",
       "168  1478524519770  inicio  3611738504      A\n",
       "\n",
       "[169 rows x 4 columns]"
      ]
     },
     "execution_count": 6,
     "metadata": {},
     "output_type": "execute_result"
    }
   ],
   "source": [
    "dataframe"
   ]
  },
  {
   "cell_type": "code",
   "execution_count": 7,
   "metadata": {
    "collapsed": false
   },
   "outputs": [],
   "source": [
    "agrupado = dataframe.groupby(by=[\"user_id\", \"versao\"])"
   ]
  },
  {
   "cell_type": "code",
   "execution_count": 8,
   "metadata": {
    "collapsed": false
   },
   "outputs": [],
   "source": [
    "users = set(dataframe.user_id) # We convert it to a set so that each user appear only once"
   ]
  },
  {
   "cell_type": "code",
   "execution_count": 9,
   "metadata": {
    "collapsed": false
   },
   "outputs": [],
   "source": [
    "users = list(users) "
   ]
  },
  {
   "cell_type": "code",
   "execution_count": 10,
   "metadata": {
    "collapsed": false
   },
   "outputs": [],
   "source": [
    "resultados = []\n",
    "\n",
    "for u in users:\n",
    "    for versao in [\"A\", \"B\"]:\n",
    "        if (u, versao) in agrupado.groups.keys(): # Check if a specific pair user/type of test happened\n",
    "            grupo1 =  agrupado.get_group((u, versao))\n",
    "            grupo1 = grupo1.sort_values(by=\"tempo\") # Para evitar que inícios sem fim gerem tempos negativos\n",
    "            \n",
    "            if len(grupo1[grupo1.tipo==\"final\"])>= 1 and len(grupo1[grupo1.tipo==\"medio\"])>= 1 and len(grupo1[grupo1.tipo==\"inicio\"]) >= 1:\n",
    "                delta_t1 = grupo1[grupo1.tipo==\"medio\"].iloc[-1].tempo - grupo1[grupo1.tipo==\"inicio\"].iloc[0].tempo\n",
    "                delta_t2 = grupo1[grupo1.tipo==\"final\"].iloc[-1].tempo - grupo1[grupo1.tipo==\"medio\"].iloc[0].tempo\n",
    "                \n",
    "                resultados.append({\"user_id\":u, \"delta_t1\":delta_t1, \"delta_t2\":delta_t2, \"versao\":versao})"
   ]
  },
  {
   "cell_type": "code",
   "execution_count": 11,
   "metadata": {
    "collapsed": false
   },
   "outputs": [
    {
     "data": {
      "text/html": [
       "<div>\n",
       "<table border=\"1\" class=\"dataframe\">\n",
       "  <thead>\n",
       "    <tr style=\"text-align: right;\">\n",
       "      <th></th>\n",
       "      <th>tempo</th>\n",
       "      <th>tipo</th>\n",
       "      <th>user_id</th>\n",
       "      <th>versao</th>\n",
       "    </tr>\n",
       "  </thead>\n",
       "  <tbody>\n",
       "    <tr>\n",
       "      <th>59</th>\n",
       "      <td>1478566685968</td>\n",
       "      <td>inicio</td>\n",
       "      <td>968803455</td>\n",
       "      <td>B</td>\n",
       "    </tr>\n",
       "  </tbody>\n",
       "</table>\n",
       "</div>"
      ],
      "text/plain": [
       "            tempo    tipo    user_id versao\n",
       "59  1478566685968  inicio  968803455      B"
      ]
     },
     "execution_count": 11,
     "metadata": {},
     "output_type": "execute_result"
    }
   ],
   "source": [
    "grupo1.sort_values(by=\"tempo\")"
   ]
  },
  {
   "cell_type": "code",
   "execution_count": 12,
   "metadata": {
    "collapsed": true
   },
   "outputs": [],
   "source": [
    "dataframe_resumo = pd.DataFrame.from_records(resultados)"
   ]
  },
  {
   "cell_type": "code",
   "execution_count": 13,
   "metadata": {
    "collapsed": false
   },
   "outputs": [],
   "source": [
    "# Convertendo milissegundos em segundos\n",
    "dataframe_resumo.delta_t1/=1000 \n",
    "dataframe_resumo.delta_t2/=1000 "
   ]
  },
  {
   "cell_type": "code",
   "execution_count": 14,
   "metadata": {
    "collapsed": true
   },
   "outputs": [
    {
     "data": {
      "text/html": [
       "<div>\n",
       "<table border=\"1\" class=\"dataframe\">\n",
       "  <thead>\n",
       "    <tr style=\"text-align: right;\">\n",
       "      <th></th>\n",
       "      <th>delta_t1</th>\n",
       "      <th>delta_t2</th>\n",
       "      <th>user_id</th>\n",
       "      <th>versao</th>\n",
       "    </tr>\n",
       "  </thead>\n",
       "  <tbody>\n",
       "    <tr>\n",
       "      <th>0</th>\n",
       "      <td>8.994</td>\n",
       "      <td>6.859</td>\n",
       "      <td>1561760900</td>\n",
       "      <td>A</td>\n",
       "    </tr>\n",
       "    <tr>\n",
       "      <th>1</th>\n",
       "      <td>2.040</td>\n",
       "      <td>4.632</td>\n",
       "      <td>3141974280</td>\n",
       "      <td>A</td>\n",
       "    </tr>\n",
       "    <tr>\n",
       "      <th>2</th>\n",
       "      <td>2.100</td>\n",
       "      <td>9.034</td>\n",
       "      <td>3789181448</td>\n",
       "      <td>A</td>\n",
       "    </tr>\n",
       "    <tr>\n",
       "      <th>3</th>\n",
       "      <td>3.058</td>\n",
       "      <td>2.500</td>\n",
       "      <td>226968087</td>\n",
       "      <td>A</td>\n",
       "    </tr>\n",
       "    <tr>\n",
       "      <th>4</th>\n",
       "      <td>2.563</td>\n",
       "      <td>6.325</td>\n",
       "      <td>226968087</td>\n",
       "      <td>B</td>\n",
       "    </tr>\n",
       "    <tr>\n",
       "      <th>5</th>\n",
       "      <td>2.173</td>\n",
       "      <td>7.642</td>\n",
       "      <td>280871320</td>\n",
       "      <td>B</td>\n",
       "    </tr>\n",
       "    <tr>\n",
       "      <th>6</th>\n",
       "      <td>234.291</td>\n",
       "      <td>8.446</td>\n",
       "      <td>2498306715</td>\n",
       "      <td>A</td>\n",
       "    </tr>\n",
       "    <tr>\n",
       "      <th>7</th>\n",
       "      <td>5.733</td>\n",
       "      <td>7.979</td>\n",
       "      <td>3649128606</td>\n",
       "      <td>B</td>\n",
       "    </tr>\n",
       "    <tr>\n",
       "      <th>8</th>\n",
       "      <td>2.231</td>\n",
       "      <td>3.344</td>\n",
       "      <td>3946099743</td>\n",
       "      <td>A</td>\n",
       "    </tr>\n",
       "    <tr>\n",
       "      <th>9</th>\n",
       "      <td>2.551</td>\n",
       "      <td>20.987</td>\n",
       "      <td>3946099743</td>\n",
       "      <td>B</td>\n",
       "    </tr>\n",
       "    <tr>\n",
       "      <th>10</th>\n",
       "      <td>59.415</td>\n",
       "      <td>36.845</td>\n",
       "      <td>1154051230</td>\n",
       "      <td>A</td>\n",
       "    </tr>\n",
       "    <tr>\n",
       "      <th>11</th>\n",
       "      <td>57003.728</td>\n",
       "      <td>56962.655</td>\n",
       "      <td>3167377320</td>\n",
       "      <td>A</td>\n",
       "    </tr>\n",
       "    <tr>\n",
       "      <th>12</th>\n",
       "      <td>1.569</td>\n",
       "      <td>5.784</td>\n",
       "      <td>278835118</td>\n",
       "      <td>B</td>\n",
       "    </tr>\n",
       "    <tr>\n",
       "      <th>13</th>\n",
       "      <td>2.521</td>\n",
       "      <td>2.327</td>\n",
       "      <td>3187205062</td>\n",
       "      <td>A</td>\n",
       "    </tr>\n",
       "    <tr>\n",
       "      <th>14</th>\n",
       "      <td>968527.686</td>\n",
       "      <td>7.271</td>\n",
       "      <td>3187205062</td>\n",
       "      <td>B</td>\n",
       "    </tr>\n",
       "    <tr>\n",
       "      <th>15</th>\n",
       "      <td>3.453</td>\n",
       "      <td>5.745</td>\n",
       "      <td>2463145929</td>\n",
       "      <td>A</td>\n",
       "    </tr>\n",
       "    <tr>\n",
       "      <th>16</th>\n",
       "      <td>1.627</td>\n",
       "      <td>3.273</td>\n",
       "      <td>328675274</td>\n",
       "      <td>B</td>\n",
       "    </tr>\n",
       "    <tr>\n",
       "      <th>17</th>\n",
       "      <td>3.014</td>\n",
       "      <td>6.438</td>\n",
       "      <td>105061458</td>\n",
       "      <td>A</td>\n",
       "    </tr>\n",
       "    <tr>\n",
       "      <th>18</th>\n",
       "      <td>4.431</td>\n",
       "      <td>8.263</td>\n",
       "      <td>3309030230</td>\n",
       "      <td>B</td>\n",
       "    </tr>\n",
       "    <tr>\n",
       "      <th>19</th>\n",
       "      <td>2.120</td>\n",
       "      <td>3.238</td>\n",
       "      <td>931274072</td>\n",
       "      <td>A</td>\n",
       "    </tr>\n",
       "    <tr>\n",
       "      <th>20</th>\n",
       "      <td>4.028</td>\n",
       "      <td>4.649</td>\n",
       "      <td>931274072</td>\n",
       "      <td>B</td>\n",
       "    </tr>\n",
       "    <tr>\n",
       "      <th>21</th>\n",
       "      <td>4.790</td>\n",
       "      <td>8.302</td>\n",
       "      <td>637707993</td>\n",
       "      <td>B</td>\n",
       "    </tr>\n",
       "    <tr>\n",
       "      <th>22</th>\n",
       "      <td>8.469</td>\n",
       "      <td>6.104</td>\n",
       "      <td>2299771869</td>\n",
       "      <td>B</td>\n",
       "    </tr>\n",
       "    <tr>\n",
       "      <th>23</th>\n",
       "      <td>-32.164</td>\n",
       "      <td>24.295</td>\n",
       "      <td>1077501661</td>\n",
       "      <td>A</td>\n",
       "    </tr>\n",
       "    <tr>\n",
       "      <th>24</th>\n",
       "      <td>4.908</td>\n",
       "      <td>2.929</td>\n",
       "      <td>1952057959</td>\n",
       "      <td>A</td>\n",
       "    </tr>\n",
       "    <tr>\n",
       "      <th>25</th>\n",
       "      <td>2611.507</td>\n",
       "      <td>2613.658</td>\n",
       "      <td>1952057959</td>\n",
       "      <td>B</td>\n",
       "    </tr>\n",
       "    <tr>\n",
       "      <th>26</th>\n",
       "      <td>22.510</td>\n",
       "      <td>52.041</td>\n",
       "      <td>521147624</td>\n",
       "      <td>B</td>\n",
       "    </tr>\n",
       "    <tr>\n",
       "      <th>27</th>\n",
       "      <td>7.474</td>\n",
       "      <td>15.555</td>\n",
       "      <td>1437971819</td>\n",
       "      <td>B</td>\n",
       "    </tr>\n",
       "    <tr>\n",
       "      <th>28</th>\n",
       "      <td>5.960</td>\n",
       "      <td>2.725</td>\n",
       "      <td>3774183163</td>\n",
       "      <td>A</td>\n",
       "    </tr>\n",
       "    <tr>\n",
       "      <th>29</th>\n",
       "      <td>768.939</td>\n",
       "      <td>767.657</td>\n",
       "      <td>3774183163</td>\n",
       "      <td>B</td>\n",
       "    </tr>\n",
       "  </tbody>\n",
       "</table>\n",
       "</div>"
      ],
      "text/plain": [
       "      delta_t1   delta_t2     user_id versao\n",
       "0        8.994      6.859  1561760900      A\n",
       "1        2.040      4.632  3141974280      A\n",
       "2        2.100      9.034  3789181448      A\n",
       "3        3.058      2.500   226968087      A\n",
       "4        2.563      6.325   226968087      B\n",
       "5        2.173      7.642   280871320      B\n",
       "6      234.291      8.446  2498306715      A\n",
       "7        5.733      7.979  3649128606      B\n",
       "8        2.231      3.344  3946099743      A\n",
       "9        2.551     20.987  3946099743      B\n",
       "10      59.415     36.845  1154051230      A\n",
       "11   57003.728  56962.655  3167377320      A\n",
       "12       1.569      5.784   278835118      B\n",
       "13       2.521      2.327  3187205062      A\n",
       "14  968527.686      7.271  3187205062      B\n",
       "15       3.453      5.745  2463145929      A\n",
       "16       1.627      3.273   328675274      B\n",
       "17       3.014      6.438   105061458      A\n",
       "18       4.431      8.263  3309030230      B\n",
       "19       2.120      3.238   931274072      A\n",
       "20       4.028      4.649   931274072      B\n",
       "21       4.790      8.302   637707993      B\n",
       "22       8.469      6.104  2299771869      B\n",
       "23     -32.164     24.295  1077501661      A\n",
       "24       4.908      2.929  1952057959      A\n",
       "25    2611.507   2613.658  1952057959      B\n",
       "26      22.510     52.041   521147624      B\n",
       "27       7.474     15.555  1437971819      B\n",
       "28       5.960      2.725  3774183163      A\n",
       "29     768.939    767.657  3774183163      B"
      ]
     },
     "execution_count": 14,
     "metadata": {},
     "output_type": "execute_result"
    }
   ],
   "source": [
    "dataframe_resumo"
   ]
  },
  {
   "cell_type": "code",
   "execution_count": 15,
   "metadata": {
    "collapsed": true
   },
   "outputs": [
    {
     "name": "stdout",
     "output_type": "stream",
     "text": [
      "      delta_t1   delta_t2     user_id versao\n",
      "0        8.994      6.859  1561760900      A\n",
      "1        2.040      4.632  3141974280      A\n",
      "2        2.100      9.034  3789181448      A\n",
      "3        3.058      2.500   226968087      A\n",
      "4        2.563      6.325   226968087      B\n",
      "5        2.173      7.642   280871320      B\n",
      "6      234.291      8.446  2498306715      A\n",
      "7        5.733      7.979  3649128606      B\n",
      "8        2.231      3.344  3946099743      A\n",
      "9        2.551     20.987  3946099743      B\n",
      "10      59.415     36.845  1154051230      A\n",
      "11   57003.728  56962.655  3167377320      A\n",
      "12       1.569      5.784   278835118      B\n",
      "13       2.521      2.327  3187205062      A\n",
      "14  968527.686      7.271  3187205062      B\n",
      "15       3.453      5.745  2463145929      A\n",
      "16       1.627      3.273   328675274      B\n",
      "17       3.014      6.438   105061458      A\n",
      "18       4.431      8.263  3309030230      B\n",
      "19       2.120      3.238   931274072      A\n",
      "20       4.028      4.649   931274072      B\n",
      "21       4.790      8.302   637707993      B\n",
      "22       8.469      6.104  2299771869      B\n",
      "23     -32.164     24.295  1077501661      A\n",
      "24       4.908      2.929  1952057959      A\n",
      "25    2611.507   2613.658  1952057959      B\n",
      "26      22.510     52.041   521147624      B\n",
      "27       7.474     15.555  1437971819      B\n",
      "28       5.960      2.725  3774183163      A\n",
      "29     768.939    767.657  3774183163      B\n",
      "    delta_t1  delta_t2     user_id versao\n",
      "0      8.994     6.859  1561760900      A\n",
      "1      2.040     4.632  3141974280      A\n",
      "2      2.100     9.034  3789181448      A\n",
      "3      3.058     2.500   226968087      A\n",
      "8      2.231     3.344  3946099743      A\n",
      "10    59.415    36.845  1154051230      A\n",
      "13     2.521     2.327  3187205062      A\n",
      "15     3.453     5.745  2463145929      A\n",
      "17     3.014     6.438   105061458      A\n",
      "19     2.120     3.238   931274072      A\n",
      "24     4.908     2.929  1952057959      A\n",
      "28     5.960     2.725  3774183163      A\n",
      "    delta_t1  delta_t2     user_id versao\n",
      "4      2.563     6.325   226968087      B\n",
      "5      2.173     7.642   280871320      B\n",
      "7      5.733     7.979  3649128606      B\n",
      "9      2.551    20.987  3946099743      B\n",
      "12     1.569     5.784   278835118      B\n",
      "16     1.627     3.273   328675274      B\n",
      "18     4.431     8.263  3309030230      B\n",
      "20     4.028     4.649   931274072      B\n",
      "21     4.790     8.302   637707993      B\n",
      "22     8.469     6.104  2299771869      B\n",
      "26    22.510    52.041   521147624      B\n",
      "27     7.474    15.555  1437971819      B\n"
     ]
    }
   ],
   "source": [
    "resultados_A=dataframe_resumo.query('versao == \"A\" and delta_t1 < 100 and delta_t1>0')\n",
    "resultados_B=dataframe_resumo.query('versao == \"B\" and delta_t1 < 100 and delta_t1>0')\n",
    "print(dataframe_resumo)\n",
    "print(resultados_A)\n",
    "print(resultados_B)"
   ]
  },
  {
   "cell_type": "code",
   "execution_count": 17,
   "metadata": {
    "collapsed": false
   },
   "outputs": [
    {
     "data": {
      "text/plain": [
       "[0, 60, 0, 5]"
      ]
     },
     "execution_count": 17,
     "metadata": {},
     "output_type": "execute_result"
    },
    {
     "data": {
      "image/png": "[encoded data removed]",
      "text/plain": [
       "<matplotlib.figure.Figure at 0x1ef38937ba8>"
      ]
     },
     "metadata": {},
     "output_type": "display_data"
    }
   ],
   "source": [
    "tempos_A2 = list(resultados_A[resultados_A.versao==\"A\"].delta_t2)\n",
    "tempos_A1 = list(resultados_A[resultados_A.versao==\"A\"].delta_t1)\n",
    "tempos_B1 = list(resultados_B[resultados_B.versao==\"B\"].delta_t1)\n",
    "tempos_B2 = list(resultados_B[resultados_B.versao==\"B\"].delta_t2)\n",
    "plt.hist(tempos_B1, bins=60, alpha=0.5,color=\"blue\")\n",
    "plt.hist(tempos_B2, bins=60, alpha=0.5, color=\"cyan\")\n",
    "plt.hist(tempos_A1, bins=60, color=\"red\")\n",
    "plt.hist(tempos_A2, bins=60, color=\"purple\")\n",
    "\n",
    "plt.axis([0,60,0,5])"
   ]
  },
  {
   "cell_type": "code",
   "execution_count": 18,
   "metadata": {
    "collapsed": false
   },
   "outputs": [
    {
     "data": {
      "text/plain": [
       "[0, 60, 0, 5]"
      ]
     },
     "execution_count": 18,
     "metadata": {},
     "output_type": "execute_result"
    },
    {
     "data": {
      "image/png": "[encoded data removed]",
      "text/plain": [
       "<matplotlib.figure.Figure at 0x1ef38916080>"
      ]
     },
     "metadata": {},
     "output_type": "display_data"
    }
   ],
   "source": [
    "tempos_A2 = list(resultados_A[resultados_A.versao==\"A\"].delta_t2)\n",
    "tempos_A1 = list(resultados_A[resultados_A.versao==\"A\"].delta_t1)\n",
    "plt.hist(tempos_A1, bins=60, color=\"red\")\n",
    "plt.hist(tempos_A2, bins=60, color=\"purple\")\n",
    "\n",
    "plt.axis([0,60,0,5])"
   ]
  },
  {
   "cell_type": "code",
   "execution_count": 19,
   "metadata": {
    "collapsed": false
   },
   "outputs": [
    {
     "data": {
      "text/plain": [
       "[0, 60, 0, 5]"
      ]
     },
     "execution_count": 19,
     "metadata": {},
     "output_type": "execute_result"
    },
    {
     "data": {
      "image/png": "[encoded data removed]",
      "text/plain": [
       "<matplotlib.figure.Figure at 0x1ef3a6a80b8>"
      ]
     },
     "metadata": {},
     "output_type": "display_data"
    }
   ],
   "source": [
    "tempos_B1 = list(resultados_B[resultados_B.versao==\"B\"].delta_t1)\n",
    "tempos_B2 = list(resultados_B[resultados_B.versao==\"B\"].delta_t2)\n",
    "plt.hist(tempos_B1, bins=60, alpha=0.5,color=\"blue\")\n",
    "plt.hist(tempos_B2, bins=60, alpha=0.5, color=\"cyan\")\n",
    "\n",
    "\n",
    "plt.axis([0,60,0,5])"
   ]
  },
  {
   "cell_type": "code",
   "execution_count": 20,
   "metadata": {
    "collapsed": false
   },
   "outputs": [
    {
     "data": {
      "text/plain": [
       "[0, 60, 0, 5]"
      ]
     },
     "execution_count": 20,
     "metadata": {},
     "output_type": "execute_result"
    },
    {
     "data": {
      "image/png": "[encoded data removed]",
      "text/plain": [
       "<matplotlib.figure.Figure at 0x1ef3a89c828>"
      ]
     },
     "metadata": {},
     "output_type": "display_data"
    }
   ],
   "source": [
    "tempos_A1 = list(resultados_A[resultados_A.versao==\"A\"].delta_t1)\n",
    "tempos_B1 = list(resultados_B[resultados_B.versao==\"B\"].delta_t1)\n",
    "plt.hist(tempos_B1, bins=60, alpha=0.5,color=\"blue\")\n",
    "plt.hist(tempos_A1, bins=60, color=\"red\")\n",
    "\n",
    "plt.axis([0,60,0,5])"
   ]
  },
  {
   "cell_type": "code",
   "execution_count": 21,
   "metadata": {
    "collapsed": false
   },
   "outputs": [
    {
     "data": {
      "text/plain": [
       "[0, 60, 0, 5]"
      ]
     },
     "execution_count": 21,
     "metadata": {},
     "output_type": "execute_result"
    },
    {
     "data": {
      "image/png": "[encoded data removed]",
      "text/plain": [
       "<matplotlib.figure.Figure at 0x1ef3a7389b0>"
      ]
     },
     "metadata": {},
     "output_type": "display_data"
    }
   ],
   "source": [
    "tempos_A2 = list(resultados_A[resultados_A.versao==\"A\"].delta_t2)\n",
    "tempos_B2 = list(resultados_B[resultados_B.versao==\"B\"].delta_t2)\n",
    "plt.hist(tempos_B2, bins=60, alpha=0.5, color=\"cyan\")\n",
    "plt.hist(tempos_A2, bins=60, color=\"purple\")\n",
    "\n",
    "plt.axis([0,60,0,5])"
   ]
  },
  {
   "cell_type": "code",
   "execution_count": 39,
   "metadata": {
    "collapsed": false
   },
   "outputs": [
    {
     "data": {
      "text/plain": [
       "count    12.000000\n",
       "mean      8.317833\n",
       "std      16.223344\n",
       "min       2.040000\n",
       "25%       2.203250\n",
       "50%       3.036000\n",
       "75%       5.171000\n",
       "max      59.415000\n",
       "Name: delta_t1, dtype: float64"
      ]
     },
     "execution_count": 39,
     "metadata": {},
     "output_type": "execute_result"
    },
    {
     "data": {
      "image/png": "[encoded data removed]",
      "text/plain": [
       "<matplotlib.figure.Figure at 0x1ef3afb4518>"
      ]
     },
     "metadata": {},
     "output_type": "display_data"
    }
   ],
   "source": [
    "resultados_A.boxplot(column = \"delta_t1\", by = \"versao\")\n",
    "plt.ylim(0, 20)\n",
    "resultados_A.delta_t1.describe()"
   ]
  },
  {
   "cell_type": "code",
   "execution_count": 41,
   "metadata": {
    "collapsed": false
   },
   "outputs": [
    {
     "data": {
      "text/plain": [
       "count    12.00000\n",
       "mean      7.21800\n",
       "std       9.56444\n",
       "min       2.32700\n",
       "25%       2.87800\n",
       "50%       3.98800\n",
       "75%       6.54325\n",
       "max      36.84500\n",
       "Name: delta_t2, dtype: float64"
      ]
     },
     "execution_count": 41,
     "metadata": {},
     "output_type": "execute_result"
    },
    {
     "data": {
      "image/png": "[encoded data removed]",
      "text/plain": [
       "<matplotlib.figure.Figure at 0x1ef3ae0bc50>"
      ]
     },
     "metadata": {},
     "output_type": "display_data"
    }
   ],
   "source": [
    "resultados_A.boxplot(column = \"delta_t2\", by = \"versao\")\n",
    "plt.ylim(0, 20)\n",
    "resultados_A.delta_t2.describe()"
   ]
  },
  {
   "cell_type": "code",
   "execution_count": 42,
   "metadata": {
    "collapsed": false
   },
   "outputs": [
    {
     "data": {
      "text/plain": [
       "count    12.000000\n",
       "mean      5.659833\n",
       "std       5.756084\n",
       "min       1.569000\n",
       "25%       2.456500\n",
       "50%       4.229500\n",
       "75%       6.168250\n",
       "max      22.510000\n",
       "Name: delta_t1, dtype: float64"
      ]
     },
     "execution_count": 42,
     "metadata": {},
     "output_type": "execute_result"
    },
    {
     "data": {
      "image/png": "[encoded data removed]",
      "text/plain": [
       "<matplotlib.figure.Figure at 0x1ef3ab530f0>"
      ]
     },
     "metadata": {},
     "output_type": "display_data"
    }
   ],
   "source": [
    "resultados_B.boxplot(column = \"delta_t1\", by = \"versao\")\n",
    "plt.ylim(0, 20)\n",
    "resultados_B.delta_t1.describe()\n"
   ]
  },
  {
   "cell_type": "code",
   "execution_count": 43,
   "metadata": {
    "collapsed": false
   },
   "outputs": [
    {
     "data": {
      "text/plain": [
       "count    12.000000\n",
       "mean     12.242000\n",
       "std      13.465744\n",
       "min       3.273000\n",
       "25%       6.024000\n",
       "50%       7.810500\n",
       "75%      10.115250\n",
       "max      52.041000\n",
       "Name: delta_t2, dtype: float64"
      ]
     },
     "execution_count": 43,
     "metadata": {},
     "output_type": "execute_result"
    },
    {
     "data": {
      "image/png": "[encoded data removed]",
      "text/plain": [
       "<matplotlib.figure.Figure at 0x1ef3aa100b8>"
      ]
     },
     "metadata": {},
     "output_type": "display_data"
    }
   ],
   "source": [
    "resultados_B.boxplot(column = \"delta_t2\", by = \"versao\")\n",
    "plt.ylim(0, 20)\n",
    "resultados_B.delta_t2.describe()"
   ]
  },
  {
   "cell_type": "code",
   "execution_count": 61,
   "metadata": {
    "collapsed": false
   },
   "outputs": [
    {
     "data": {
      "text/plain": [
       "(array([ 0.00264811,  0.01115991,  0.03253398,  0.06752693,  0.11046421,\n",
       "         0.17231661,  0.22036098,  0.24513976,  0.25327326,  0.23265579,\n",
       "         0.18915105,  0.14016093,  0.08606373,  0.06015003,  0.03310143,\n",
       "         0.0174019 ,  0.00983585,  0.00359387,  0.00226981,  0.00170236]),\n",
       " array([  3.86013 ,   4.388808,   4.917486,   5.446164,   5.974842,\n",
       "          6.50352 ,   7.032198,   7.560876,   8.089554,   8.618232,\n",
       "          9.14691 ,   9.675588,  10.204266,  10.732944,  11.261622,\n",
       "         11.7903  ,  12.318978,  12.847656,  13.376334,  13.905012,\n",
       "         14.43369 ]),\n",
       " <a list of 20 Patch objects>)"
      ]
     },
     "execution_count": 61,
     "metadata": {},
     "output_type": "execute_result"
    },
    {
     "data": {
      "image/png": "[encoded data removed]",
      "text/plain": [
       "<matplotlib.figure.Figure at 0x1ef3b001eb8>"
      ]
     },
     "metadata": {},
     "output_type": "display_data"
    }
   ],
   "source": [
    "mediaA_t1 = []\n",
    "for i in range(10000):\n",
    "    mediaA_t1.append(np.mean(np.random.choice(resultados_A.delta_t1,size = 100)))\n",
    "x_barra = pd.Series(mediaA_t1)\n",
    "plt.hist(x_barra, bins = 20, normed = 1)"
   ]
  },
  {
   "cell_type": "code",
   "execution_count": 66,
   "metadata": {
    "collapsed": false
   },
   "outputs": [
    {
     "data": {
      "text/plain": [
       "8.31506760300002"
      ]
     },
     "execution_count": 66,
     "metadata": {},
     "output_type": "execute_result"
    }
   ],
   "source": [
    "mediaA_t1 = pd.Series(mediaA_t1)\n",
    "mediaA_t1.mean()"
   ]
  },
  {
   "cell_type": "code",
   "execution_count": 72,
   "metadata": {
    "collapsed": false
   },
   "outputs": [
    {
     "data": {
      "text/plain": [
       "(array([ 0.00409825,  0.0132405 ,  0.03783001,  0.09835802,  0.17433329,\n",
       "         0.27552856,  0.36663582,  0.41802159,  0.43315359,  0.38681183,\n",
       "         0.32218557,  0.2411663 ,  0.16014703,  0.11002227,  0.05579926,\n",
       "         0.02900301,  0.0119795 ,  0.0081965 ,  0.002522  ,  0.00346775]),\n",
       " array([  4.5111   ,   4.8283085,   5.145517 ,   5.4627255,   5.779934 ,\n",
       "          6.0971425,   6.414351 ,   6.7315595,   7.048768 ,   7.3659765,\n",
       "          7.683185 ,   8.0003935,   8.317602 ,   8.6348105,   8.952019 ,\n",
       "          9.2692275,   9.586436 ,   9.9036445,  10.220853 ,  10.5380615,\n",
       "         10.85527  ]),\n",
       " <a list of 20 Patch objects>)"
      ]
     },
     "execution_count": 72,
     "metadata": {},
     "output_type": "execute_result"
    },
    {
     "data": {
      "image/png": "[encoded data removed]",
      "text/plain": [
       "<matplotlib.figure.Figure at 0x1ef3ad82588>"
      ]
     },
     "metadata": {},
     "output_type": "display_data"
    }
   ],
   "source": [
    "mediaA_t2 = []\n",
    "for i in range(10000):\n",
    "    mediaA_t2.append(np.mean(np.random.choice(resultados_A.delta_t2,size = 100)))\n",
    "x_barra2 = pd.Series(mediaA_t2)\n",
    "plt.hist(x_barra2, bins = 20, normed = 1)"
   ]
  },
  {
   "cell_type": "code",
   "execution_count": 73,
   "metadata": {
    "collapsed": false
   },
   "outputs": [
    {
     "data": {
      "text/plain": [
       "7.227309643000002"
      ]
     },
     "execution_count": 73,
     "metadata": {},
     "output_type": "execute_result"
    }
   ],
   "source": [
    "mediaA_t2 = pd.Series(mediaA_t2)\n",
    "mediaA_t2.mean()"
   ]
  },
  {
   "cell_type": "code",
   "execution_count": 74,
   "metadata": {
    "collapsed": false
   },
   "outputs": [
    {
     "data": {
      "text/plain": [
       "(array([  6.88896594e-03,   1.60742539e-02,   7.30230390e-02,\n",
       "          1.52475780e-01,   2.98062593e-01,   4.64316305e-01,\n",
       "          6.29651487e-01,   7.20585838e-01,   6.61340731e-01,\n",
       "          5.90614014e-01,   4.27575153e-01,   2.62699235e-01,\n",
       "          1.50179458e-01,   6.93489238e-02,   4.68449684e-02,\n",
       "          1.60742539e-02,   3.67411517e-03,   1.83705758e-03,\n",
       "          9.18528792e-04,   4.59264396e-04]),\n",
       " array([ 3.91653  ,  4.1342695,  4.352009 ,  4.5697485,  4.787488 ,\n",
       "         5.0052275,  5.222967 ,  5.4407065,  5.658446 ,  5.8761855,\n",
       "         6.093925 ,  6.3116645,  6.529404 ,  6.7471435,  6.964883 ,\n",
       "         7.1826225,  7.400362 ,  7.6181015,  7.835841 ,  8.0535805,  8.27132  ]),\n",
       " <a list of 20 Patch objects>)"
      ]
     },
     "execution_count": 74,
     "metadata": {},
     "output_type": "execute_result"
    },
    {
     "data": {
      "image/png": "[encoded data removed]",
      "text/plain": [
       "<matplotlib.figure.Figure at 0x1ef3a57e2b0>"
      ]
     },
     "metadata": {},
     "output_type": "display_data"
    }
   ],
   "source": [
    "mediaB_t1 = []\n",
    "for i in range(10000):\n",
    "    mediaB_t1.append(np.mean(np.random.choice(resultados_B.delta_t1,size = 100)))\n",
    "x_barra3 = pd.Series(mediaB_t1)\n",
    "plt.hist(x_barra3, bins = 20, normed = 1)"
   ]
  },
  {
   "cell_type": "code",
   "execution_count": 75,
   "metadata": {
    "collapsed": false
   },
   "outputs": [
    {
     "data": {
      "text/plain": [
       "5.6588002060000155"
      ]
     },
     "execution_count": 75,
     "metadata": {},
     "output_type": "execute_result"
    }
   ],
   "source": [
    "mediaB_t1 = pd.Series(mediaB_t1)\n",
    "mediaB_t1.mean()"
   ]
  },
  {
   "cell_type": "code",
   "execution_count": 77,
   "metadata": {
    "collapsed": false
   },
   "outputs": [
    {
     "data": {
      "text/plain": [
       "(array([  1.97483078e-04,   5.92449235e-04,   1.18489847e-03,\n",
       "          1.00716370e-02,   2.84375633e-02,   7.03039758e-02,\n",
       "          1.37448222e-01,   2.22168463e-01,   2.84968082e-01,\n",
       "          3.05901288e-01,   3.00569245e-01,   2.26513091e-01,\n",
       "          1.57591496e-01,   1.12170388e-01,   6.39845173e-02,\n",
       "          2.96224617e-02,   1.32313662e-02,   7.30687389e-03,\n",
       "          1.57986463e-03,   9.87415391e-04]),\n",
       " array([  7.26122  ,   7.7675925,   8.273965 ,   8.7803375,   9.28671  ,\n",
       "          9.7930825,  10.299455 ,  10.8058275,  11.3122   ,  11.8185725,\n",
       "         12.324945 ,  12.8313175,  13.33769  ,  13.8440625,  14.350435 ,\n",
       "         14.8568075,  15.36318  ,  15.8695525,  16.375925 ,  16.8822975,\n",
       "         17.38867  ]),\n",
       " <a list of 20 Patch objects>)"
      ]
     },
     "execution_count": 77,
     "metadata": {},
     "output_type": "execute_result"
    },
    {
     "data": {
      "image/png": "[encoded data removed]",
      "text/plain": [
       "<matplotlib.figure.Figure at 0x1ef3ac32dd8>"
      ]
     },
     "metadata": {},
     "output_type": "display_data"
    }
   ],
   "source": [
    "mediaB_t2 = []\n",
    "for i in range(10000):\n",
    "    mediaB_t2.append(np.mean(np.random.choice(resultados_B.delta_t2,size = 100)))\n",
    "x_barra4 = pd.Series(mediaB_t2)\n",
    "plt.hist(x_barra4, bins = 20, normed = 1)"
   ]
  },
  {
   "cell_type": "code",
   "execution_count": 78,
   "metadata": {
    "collapsed": false
   },
   "outputs": [
    {
     "data": {
      "text/plain": [
       "12.25264759799997"
      ]
     },
     "execution_count": 78,
     "metadata": {},
     "output_type": "execute_result"
    }
   ],
   "source": [
    "mediaB_t2 = pd.Series(mediaB_t2)\n",
    "mediaB_t2.mean()"
   ]
  },
  {
   "cell_type": "code",
   "execution_count": null,
   "metadata": {
    "collapsed": true
   },
   "outputs": [],
   "source": []
  }
 ],
 "metadata": {
  "anaconda-cloud": {},
  "kernelspec": {
   "display_name": "Python [Root]",
   "language": "python",
   "name": "Python [Root]"
  },
  "language_info": {
   "codemirror_mode": {
    "name": "ipython",
    "version": 3
   },
   "file_extension": ".py",
   "mimetype": "text/x-python",
   "name": "python",
   "nbconvert_exporter": "python",
   "pygments_lexer": "ipython3",
   "version": "3.5.2"
  }
 },
 "nbformat": 4,
 "nbformat_minor": 0
}
