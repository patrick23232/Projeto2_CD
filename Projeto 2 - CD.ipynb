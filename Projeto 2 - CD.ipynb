{
 "cells": [
  {
   "cell_type": "markdown",
   "metadata": {},
   "source": [
    "# Projeto 2 - Ciência dos Dados\n",
    "### Eduardo Tirta, José Fernando, Patrick dos Santos"
   ]
  },
  {
   "cell_type": "markdown",
   "metadata": {},
   "source": [
    "## Introdução"
   ]
  },
  {
   "cell_type": "markdown",
   "metadata": {},
   "source": [
    "Esse relatório trata-se da Análise Descritiva e Inferêncial da Interface de um Portfólio, esse portfólio foi desenvolvido na durante o projeto 1 de Co-design de Aplicativos e fizemos duas versões de interfase, A e B. A diferença entre elas é o arranjo dos menus que contém no Portfólio, a interfase A está com o menu com forma de grade, e a interfase B está com o menu com uma única coluna. Assim, o nosso grupo procura estabelecer qual das duas interfaces é mais eficaz.\n",
    "\n",
    "Como queremos determinar a eficaz de cada interface, iremos usar, como váriavel, o tempo de navegação de um usuário para completar uma certa tarefa utilizando os dois tipos de interface. A tarefa que o grupo selecionou para realizar essa análise é de acessar a página projeto final de design de software (PETinder), presente no Portfólio."
   ]
  },
  {
   "cell_type": "markdown",
   "metadata": {},
   "source": [
    "<img src=\"testeA.png\">\n",
    "Interface A\n",
    "\n",
    "<img src=\"testeB.png\">\n",
    "Interface B"
   ]
  },
  {
   "cell_type": "markdown",
   "metadata": {},
   "source": [
    "## Desenvolvimento"
   ]
  },
  {
   "cell_type": "markdown",
   "metadata": {},
   "source": [
    "### Inicialização do projeto"
   ]
  },
  {
   "cell_type": "markdown",
   "metadata": {
    "collapsed": true
   },
   "source": [
    "Primeiramente, antes de começarmos a fazer a analise dos dados, precisamos coletar eles e criar uma instância onde estarão esses dados. Durante o projeto, espalhamos um link onde o usuários conseguia acessar o portfólio e realizar a tarefa, o tempo de acesso era salvo no Firebase sendo associado com a versão que foi utilizada. Assim só foi preciso retirar os dados do Firebase.\n",
    "\n",
    "A seguir estará o código inicial da nossa análise onde pegamos os dados do Firebase e retiramos dados que tiveram algum problema ou que não fazem muito sentido, como tempo muito alto ou tempo negativo."
   ]
  },
  {
   "cell_type": "code",
   "execution_count": 1,
   "metadata": {
    "collapsed": true
   },
   "outputs": [],
   "source": [
    "import pandas as pd\n",
    "import json\n",
    "import itertools\n",
    "import numpy as np\n",
    "import matplotlib.pyplot as plt\n",
    "%matplotlib inline"
   ]
  },
  {
   "cell_type": "code",
   "execution_count": 2,
   "metadata": {
    "collapsed": true
   },
   "outputs": [],
   "source": [
    "arquivo = open(\"testeab-8de6a-export.json\")\n",
    "linhas = arquivo.readlines()\n",
    "texto = \"\".join(linhas)\n",
    "dados_fire = json.loads(texto)"
   ]
  },
  {
   "cell_type": "code",
   "execution_count": 3,
   "metadata": {
    "collapsed": true
   },
   "outputs": [],
   "source": [
    "for k,v in dados_fire[\"testeab-8de6a\"].items():\n",
    "    # print(k,v) # habilite para imprimir as chaves de mais alto nível\n",
    "    for chave, valor in v.items():\n",
    "        # print(chave, valor) # habilite para imprimir as chaves inferiores\n",
    "        pass # desabilite quando reabilitar a linha de cima"
   ]
  },
  {
   "cell_type": "code",
   "execution_count": 4,
   "metadata": {
    "collapsed": true
   },
   "outputs": [],
   "source": [
    "lista_dicionarios = []\n",
    "\n",
    "for k,v in dados_fire[\"testeab-8de6a\"].items():\n",
    "    lista_dicionarios.append(v)"
   ]
  },
  {
   "cell_type": "code",
   "execution_count": 5,
   "metadata": {
    "collapsed": false
   },
   "outputs": [],
   "source": [
    "dataframe = pd.DataFrame.from_records(lista_dicionarios)"
   ]
  },
  {
   "cell_type": "code",
   "execution_count": 6,
   "metadata": {
    "collapsed": false
   },
   "outputs": [
    {
     "data": {
      "text/html": [
       "<div>\n",
       "<table border=\"1\" class=\"dataframe\">\n",
       "  <thead>\n",
       "    <tr style=\"text-align: right;\">\n",
       "      <th></th>\n",
       "      <th>tempo</th>\n",
       "      <th>tipo</th>\n",
       "      <th>user_id</th>\n",
       "      <th>versao</th>\n",
       "    </tr>\n",
       "  </thead>\n",
       "  <tbody>\n",
       "    <tr>\n",
       "      <th>0</th>\n",
       "      <td>1478263255649</td>\n",
       "      <td>medio</td>\n",
       "      <td>2299771869</td>\n",
       "      <td>B</td>\n",
       "    </tr>\n",
       "    <tr>\n",
       "      <th>1</th>\n",
       "      <td>1478288409069</td>\n",
       "      <td>inicio</td>\n",
       "      <td>3309030230</td>\n",
       "      <td>A</td>\n",
       "    </tr>\n",
       "    <tr>\n",
       "      <th>2</th>\n",
       "      <td>1478534363059</td>\n",
       "      <td>inicio</td>\n",
       "      <td>280871320</td>\n",
       "      <td>B</td>\n",
       "    </tr>\n",
       "    <tr>\n",
       "      <th>3</th>\n",
       "      <td>1478523959022</td>\n",
       "      <td>inicio</td>\n",
       "      <td>3220108444</td>\n",
       "      <td>B</td>\n",
       "    </tr>\n",
       "    <tr>\n",
       "      <th>4</th>\n",
       "      <td>1478518100162</td>\n",
       "      <td>medio</td>\n",
       "      <td>328675274</td>\n",
       "      <td>B</td>\n",
       "    </tr>\n",
       "    <tr>\n",
       "      <th>5</th>\n",
       "      <td>1478523642992</td>\n",
       "      <td>inicio</td>\n",
       "      <td>853823534</td>\n",
       "      <td>B</td>\n",
       "    </tr>\n",
       "    <tr>\n",
       "      <th>6</th>\n",
       "      <td>1478524122198</td>\n",
       "      <td>final</td>\n",
       "      <td>3789181448</td>\n",
       "      <td>A</td>\n",
       "    </tr>\n",
       "    <tr>\n",
       "      <th>7</th>\n",
       "      <td>1479317365257</td>\n",
       "      <td>final</td>\n",
       "      <td>3774183163</td>\n",
       "      <td>B</td>\n",
       "    </tr>\n",
       "    <tr>\n",
       "      <th>8</th>\n",
       "      <td>1479317170088</td>\n",
       "      <td>medio</td>\n",
       "      <td>3774183163</td>\n",
       "      <td>B</td>\n",
       "    </tr>\n",
       "    <tr>\n",
       "      <th>9</th>\n",
       "      <td>1478525293666</td>\n",
       "      <td>medio</td>\n",
       "      <td>278835118</td>\n",
       "      <td>B</td>\n",
       "    </tr>\n",
       "    <tr>\n",
       "      <th>10</th>\n",
       "      <td>1478524137539</td>\n",
       "      <td>inicio</td>\n",
       "      <td>2498306715</td>\n",
       "      <td>A</td>\n",
       "    </tr>\n",
       "    <tr>\n",
       "      <th>11</th>\n",
       "      <td>1478518103435</td>\n",
       "      <td>final</td>\n",
       "      <td>328675274</td>\n",
       "      <td>B</td>\n",
       "    </tr>\n",
       "    <tr>\n",
       "      <th>12</th>\n",
       "      <td>1479316822546</td>\n",
       "      <td>medio</td>\n",
       "      <td>226968087</td>\n",
       "      <td>A</td>\n",
       "    </tr>\n",
       "    <tr>\n",
       "      <th>13</th>\n",
       "      <td>1478523541414</td>\n",
       "      <td>inicio</td>\n",
       "      <td>1154051230</td>\n",
       "      <td>B</td>\n",
       "    </tr>\n",
       "    <tr>\n",
       "      <th>14</th>\n",
       "      <td>1478566685968</td>\n",
       "      <td>inicio</td>\n",
       "      <td>968803455</td>\n",
       "      <td>B</td>\n",
       "    </tr>\n",
       "    <tr>\n",
       "      <th>15</th>\n",
       "      <td>1478357188706</td>\n",
       "      <td>inicio</td>\n",
       "      <td>3141974280</td>\n",
       "      <td>A</td>\n",
       "    </tr>\n",
       "    <tr>\n",
       "      <th>16</th>\n",
       "      <td>1478528750150</td>\n",
       "      <td>medio</td>\n",
       "      <td>1321453813</td>\n",
       "      <td>B</td>\n",
       "    </tr>\n",
       "    <tr>\n",
       "      <th>17</th>\n",
       "      <td>1478534145673</td>\n",
       "      <td>medio</td>\n",
       "      <td>465147348</td>\n",
       "      <td>B</td>\n",
       "    </tr>\n",
       "    <tr>\n",
       "      <th>18</th>\n",
       "      <td>1479317795717</td>\n",
       "      <td>inicio</td>\n",
       "      <td>3774183163</td>\n",
       "      <td>A</td>\n",
       "    </tr>\n",
       "    <tr>\n",
       "      <th>19</th>\n",
       "      <td>1478525254864</td>\n",
       "      <td>inicio</td>\n",
       "      <td>933252413</td>\n",
       "      <td>A</td>\n",
       "    </tr>\n",
       "    <tr>\n",
       "      <th>20</th>\n",
       "      <td>1478531039665</td>\n",
       "      <td>final</td>\n",
       "      <td>105061458</td>\n",
       "      <td>A</td>\n",
       "    </tr>\n",
       "    <tr>\n",
       "      <th>21</th>\n",
       "      <td>1478528694978</td>\n",
       "      <td>inicio</td>\n",
       "      <td>1321453813</td>\n",
       "      <td>B</td>\n",
       "    </tr>\n",
       "    <tr>\n",
       "      <th>22</th>\n",
       "      <td>1478700078003</td>\n",
       "      <td>inicio</td>\n",
       "      <td>1077501661</td>\n",
       "      <td>A</td>\n",
       "    </tr>\n",
       "    <tr>\n",
       "      <th>23</th>\n",
       "      <td>1479317592857</td>\n",
       "      <td>final</td>\n",
       "      <td>3774183163</td>\n",
       "      <td>B</td>\n",
       "    </tr>\n",
       "    <tr>\n",
       "      <th>24</th>\n",
       "      <td>1478598813937</td>\n",
       "      <td>inicio</td>\n",
       "      <td>1561760900</td>\n",
       "      <td>A</td>\n",
       "    </tr>\n",
       "    <tr>\n",
       "      <th>25</th>\n",
       "      <td>1479316753999</td>\n",
       "      <td>inicio</td>\n",
       "      <td>226968087</td>\n",
       "      <td>B</td>\n",
       "    </tr>\n",
       "    <tr>\n",
       "      <th>26</th>\n",
       "      <td>1479317355439</td>\n",
       "      <td>inicio</td>\n",
       "      <td>3774183163</td>\n",
       "      <td>B</td>\n",
       "    </tr>\n",
       "    <tr>\n",
       "      <th>27</th>\n",
       "      <td>1478523559052</td>\n",
       "      <td>medio</td>\n",
       "      <td>149296232</td>\n",
       "      <td>B</td>\n",
       "    </tr>\n",
       "    <tr>\n",
       "      <th>28</th>\n",
       "      <td>1478523479464</td>\n",
       "      <td>inicio</td>\n",
       "      <td>2463145929</td>\n",
       "      <td>A</td>\n",
       "    </tr>\n",
       "    <tr>\n",
       "      <th>29</th>\n",
       "      <td>1478523962729</td>\n",
       "      <td>medio</td>\n",
       "      <td>637707993</td>\n",
       "      <td>B</td>\n",
       "    </tr>\n",
       "    <tr>\n",
       "      <th>...</th>\n",
       "      <td>...</td>\n",
       "      <td>...</td>\n",
       "      <td>...</td>\n",
       "      <td>...</td>\n",
       "    </tr>\n",
       "    <tr>\n",
       "      <th>139</th>\n",
       "      <td>1478526348892</td>\n",
       "      <td>medio</td>\n",
       "      <td>3649128606</td>\n",
       "      <td>B</td>\n",
       "    </tr>\n",
       "    <tr>\n",
       "      <th>140</th>\n",
       "      <td>1478536958799</td>\n",
       "      <td>inicio</td>\n",
       "      <td>3771431033</td>\n",
       "      <td>A</td>\n",
       "    </tr>\n",
       "    <tr>\n",
       "      <th>141</th>\n",
       "      <td>1478525117881</td>\n",
       "      <td>inicio</td>\n",
       "      <td>933252413</td>\n",
       "      <td>A</td>\n",
       "    </tr>\n",
       "    <tr>\n",
       "      <th>142</th>\n",
       "      <td>1478606945734</td>\n",
       "      <td>inicio</td>\n",
       "      <td>3167377320</td>\n",
       "      <td>A</td>\n",
       "    </tr>\n",
       "    <tr>\n",
       "      <th>143</th>\n",
       "      <td>1478527176275</td>\n",
       "      <td>inicio</td>\n",
       "      <td>459832871</td>\n",
       "      <td>A</td>\n",
       "    </tr>\n",
       "    <tr>\n",
       "      <th>144</th>\n",
       "      <td>1479317804402</td>\n",
       "      <td>final</td>\n",
       "      <td>3774183163</td>\n",
       "      <td>A</td>\n",
       "    </tr>\n",
       "    <tr>\n",
       "      <th>145</th>\n",
       "      <td>1478547123823</td>\n",
       "      <td>inicio</td>\n",
       "      <td>668271945</td>\n",
       "      <td>A</td>\n",
       "    </tr>\n",
       "    <tr>\n",
       "      <th>146</th>\n",
       "      <td>1479316829399</td>\n",
       "      <td>final</td>\n",
       "      <td>3774183163</td>\n",
       "      <td>B</td>\n",
       "    </tr>\n",
       "    <tr>\n",
       "      <th>147</th>\n",
       "      <td>1478566672400</td>\n",
       "      <td>inicio</td>\n",
       "      <td>968803455</td>\n",
       "      <td>A</td>\n",
       "    </tr>\n",
       "    <tr>\n",
       "      <th>148</th>\n",
       "      <td>1479317434615</td>\n",
       "      <td>final</td>\n",
       "      <td>3946099743</td>\n",
       "      <td>A</td>\n",
       "    </tr>\n",
       "    <tr>\n",
       "      <th>149</th>\n",
       "      <td>1478518098535</td>\n",
       "      <td>inicio</td>\n",
       "      <td>328675274</td>\n",
       "      <td>B</td>\n",
       "    </tr>\n",
       "    <tr>\n",
       "      <th>150</th>\n",
       "      <td>1478262997557</td>\n",
       "      <td>medio</td>\n",
       "      <td>931274072</td>\n",
       "      <td>A</td>\n",
       "    </tr>\n",
       "    <tr>\n",
       "      <th>151</th>\n",
       "      <td>1478531844522</td>\n",
       "      <td>inicio</td>\n",
       "      <td>3453439450</td>\n",
       "      <td>B</td>\n",
       "    </tr>\n",
       "    <tr>\n",
       "      <th>152</th>\n",
       "      <td>1478598807704</td>\n",
       "      <td>inicio</td>\n",
       "      <td>1561760900</td>\n",
       "      <td>A</td>\n",
       "    </tr>\n",
       "    <tr>\n",
       "      <th>153</th>\n",
       "      <td>1478523378296</td>\n",
       "      <td>inicio</td>\n",
       "      <td>3004167413</td>\n",
       "      <td>A</td>\n",
       "    </tr>\n",
       "    <tr>\n",
       "      <th>154</th>\n",
       "      <td>1478524111064</td>\n",
       "      <td>inicio</td>\n",
       "      <td>3789181448</td>\n",
       "      <td>A</td>\n",
       "    </tr>\n",
       "    <tr>\n",
       "      <th>155</th>\n",
       "      <td>1479316745519</td>\n",
       "      <td>final</td>\n",
       "      <td>1952057959</td>\n",
       "      <td>B</td>\n",
       "    </tr>\n",
       "    <tr>\n",
       "      <th>156</th>\n",
       "      <td>1478606953007</td>\n",
       "      <td>medio</td>\n",
       "      <td>3167377320</td>\n",
       "      <td>A</td>\n",
       "    </tr>\n",
       "    <tr>\n",
       "      <th>157</th>\n",
       "      <td>1479316754142</td>\n",
       "      <td>inicio</td>\n",
       "      <td>1952057959</td>\n",
       "      <td>B</td>\n",
       "    </tr>\n",
       "    <tr>\n",
       "      <th>158</th>\n",
       "      <td>1478523549620</td>\n",
       "      <td>inicio</td>\n",
       "      <td>149296232</td>\n",
       "      <td>B</td>\n",
       "    </tr>\n",
       "    <tr>\n",
       "      <th>159</th>\n",
       "      <td>1478288419856</td>\n",
       "      <td>inicio</td>\n",
       "      <td>3309030230</td>\n",
       "      <td>A</td>\n",
       "    </tr>\n",
       "    <tr>\n",
       "      <th>160</th>\n",
       "      <td>1478534109294</td>\n",
       "      <td>inicio</td>\n",
       "      <td>465147348</td>\n",
       "      <td>B</td>\n",
       "    </tr>\n",
       "    <tr>\n",
       "      <th>161</th>\n",
       "      <td>1478354844649</td>\n",
       "      <td>final</td>\n",
       "      <td>1437971819</td>\n",
       "      <td>B</td>\n",
       "    </tr>\n",
       "    <tr>\n",
       "      <th>162</th>\n",
       "      <td>1478525292097</td>\n",
       "      <td>inicio</td>\n",
       "      <td>278835118</td>\n",
       "      <td>B</td>\n",
       "    </tr>\n",
       "    <tr>\n",
       "      <th>163</th>\n",
       "      <td>1479314138335</td>\n",
       "      <td>final</td>\n",
       "      <td>1952057959</td>\n",
       "      <td>B</td>\n",
       "    </tr>\n",
       "    <tr>\n",
       "      <th>164</th>\n",
       "      <td>1479317801677</td>\n",
       "      <td>medio</td>\n",
       "      <td>3774183163</td>\n",
       "      <td>A</td>\n",
       "    </tr>\n",
       "    <tr>\n",
       "      <th>165</th>\n",
       "      <td>1478348810862</td>\n",
       "      <td>inicio</td>\n",
       "      <td>3187205062</td>\n",
       "      <td>B</td>\n",
       "    </tr>\n",
       "    <tr>\n",
       "      <th>166</th>\n",
       "      <td>1478606950890</td>\n",
       "      <td>inicio</td>\n",
       "      <td>3167377320</td>\n",
       "      <td>A</td>\n",
       "    </tr>\n",
       "    <tr>\n",
       "      <th>167</th>\n",
       "      <td>1478549949279</td>\n",
       "      <td>inicio</td>\n",
       "      <td>3167377320</td>\n",
       "      <td>A</td>\n",
       "    </tr>\n",
       "    <tr>\n",
       "      <th>168</th>\n",
       "      <td>1478525267699</td>\n",
       "      <td>inicio</td>\n",
       "      <td>278835118</td>\n",
       "      <td>A</td>\n",
       "    </tr>\n",
       "  </tbody>\n",
       "</table>\n",
       "<p>169 rows × 4 columns</p>\n",
       "</div>"
      ],
      "text/plain": [
       "             tempo    tipo     user_id versao\n",
       "0    1478263255649   medio  2299771869      B\n",
       "1    1478288409069  inicio  3309030230      A\n",
       "2    1478534363059  inicio   280871320      B\n",
       "3    1478523959022  inicio  3220108444      B\n",
       "4    1478518100162   medio   328675274      B\n",
       "5    1478523642992  inicio   853823534      B\n",
       "6    1478524122198   final  3789181448      A\n",
       "7    1479317365257   final  3774183163      B\n",
       "8    1479317170088   medio  3774183163      B\n",
       "9    1478525293666   medio   278835118      B\n",
       "10   1478524137539  inicio  2498306715      A\n",
       "11   1478518103435   final   328675274      B\n",
       "12   1479316822546   medio   226968087      A\n",
       "13   1478523541414  inicio  1154051230      B\n",
       "14   1478566685968  inicio   968803455      B\n",
       "15   1478357188706  inicio  3141974280      A\n",
       "16   1478528750150   medio  1321453813      B\n",
       "17   1478534145673   medio   465147348      B\n",
       "18   1479317795717  inicio  3774183163      A\n",
       "19   1478525254864  inicio   933252413      A\n",
       "20   1478531039665   final   105061458      A\n",
       "21   1478528694978  inicio  1321453813      B\n",
       "22   1478700078003  inicio  1077501661      A\n",
       "23   1479317592857   final  3774183163      B\n",
       "24   1478598813937  inicio  1561760900      A\n",
       "25   1479316753999  inicio   226968087      B\n",
       "26   1479317355439  inicio  3774183163      B\n",
       "27   1478523559052   medio   149296232      B\n",
       "28   1478523479464  inicio  2463145929      A\n",
       "29   1478523962729   medio   637707993      B\n",
       "..             ...     ...         ...    ...\n",
       "139  1478526348892   medio  3649128606      B\n",
       "140  1478536958799  inicio  3771431033      A\n",
       "141  1478525117881  inicio   933252413      A\n",
       "142  1478606945734  inicio  3167377320      A\n",
       "143  1478527176275  inicio   459832871      A\n",
       "144  1479317804402   final  3774183163      A\n",
       "145  1478547123823  inicio   668271945      A\n",
       "146  1479316829399   final  3774183163      B\n",
       "147  1478566672400  inicio   968803455      A\n",
       "148  1479317434615   final  3946099743      A\n",
       "149  1478518098535  inicio   328675274      B\n",
       "150  1478262997557   medio   931274072      A\n",
       "151  1478531844522  inicio  3453439450      B\n",
       "152  1478598807704  inicio  1561760900      A\n",
       "153  1478523378296  inicio  3004167413      A\n",
       "154  1478524111064  inicio  3789181448      A\n",
       "155  1479316745519   final  1952057959      B\n",
       "156  1478606953007   medio  3167377320      A\n",
       "157  1479316754142  inicio  1952057959      B\n",
       "158  1478523549620  inicio   149296232      B\n",
       "159  1478288419856  inicio  3309030230      A\n",
       "160  1478534109294  inicio   465147348      B\n",
       "161  1478354844649   final  1437971819      B\n",
       "162  1478525292097  inicio   278835118      B\n",
       "163  1479314138335   final  1952057959      B\n",
       "164  1479317801677   medio  3774183163      A\n",
       "165  1478348810862  inicio  3187205062      B\n",
       "166  1478606950890  inicio  3167377320      A\n",
       "167  1478549949279  inicio  3167377320      A\n",
       "168  1478525267699  inicio   278835118      A\n",
       "\n",
       "[169 rows x 4 columns]"
      ]
     },
     "execution_count": 6,
     "metadata": {},
     "output_type": "execute_result"
    }
   ],
   "source": [
    "dataframe"
   ]
  },
  {
   "cell_type": "code",
   "execution_count": 7,
   "metadata": {
    "collapsed": true
   },
   "outputs": [],
   "source": [
    "agrupado = dataframe.groupby(by=[\"user_id\", \"versao\"])"
   ]
  },
  {
   "cell_type": "code",
   "execution_count": 8,
   "metadata": {
    "collapsed": true
   },
   "outputs": [],
   "source": [
    "users = set(dataframe.user_id) # We convert it to a set so that each user appear only once"
   ]
  },
  {
   "cell_type": "code",
   "execution_count": 9,
   "metadata": {
    "collapsed": true
   },
   "outputs": [],
   "source": [
    "users = list(users) "
   ]
  },
  {
   "cell_type": "code",
   "execution_count": 10,
   "metadata": {
    "collapsed": true
   },
   "outputs": [],
   "source": [
    "resultados = []\n",
    "\n",
    "for u in users:\n",
    "    for versao in [\"A\", \"B\"]:\n",
    "        if (u, versao) in agrupado.groups.keys(): # Check if a specific pair user/type of test happened\n",
    "            grupo1 =  agrupado.get_group((u, versao))\n",
    "            grupo1 = grupo1.sort_values(by=\"tempo\") # Para evitar que inícios sem fim gerem tempos negativos\n",
    "            \n",
    "            if len(grupo1[grupo1.tipo==\"final\"])>= 1 and len(grupo1[grupo1.tipo==\"medio\"])>= 1 and len(grupo1[grupo1.tipo==\"inicio\"]) >= 1:\n",
    "                delta_t1 = grupo1[grupo1.tipo==\"medio\"].iloc[-1].tempo - grupo1[grupo1.tipo==\"inicio\"].iloc[0].tempo\n",
    "                delta_t2 = grupo1[grupo1.tipo==\"final\"].iloc[-1].tempo - grupo1[grupo1.tipo==\"medio\"].iloc[0].tempo\n",
    "                \n",
    "                resultados.append({\"user_id\":u, \"delta_t1\":delta_t1, \"delta_t2\":delta_t2, \"versao\":versao})"
   ]
  },
  {
   "cell_type": "code",
   "execution_count": 11,
   "metadata": {
    "collapsed": false
   },
   "outputs": [
    {
     "data": {
      "text/html": [
       "<div>\n",
       "<table border=\"1\" class=\"dataframe\">\n",
       "  <thead>\n",
       "    <tr style=\"text-align: right;\">\n",
       "      <th></th>\n",
       "      <th>tempo</th>\n",
       "      <th>tipo</th>\n",
       "      <th>user_id</th>\n",
       "      <th>versao</th>\n",
       "    </tr>\n",
       "  </thead>\n",
       "  <tbody>\n",
       "    <tr>\n",
       "      <th>14</th>\n",
       "      <td>1478566685968</td>\n",
       "      <td>inicio</td>\n",
       "      <td>968803455</td>\n",
       "      <td>B</td>\n",
       "    </tr>\n",
       "  </tbody>\n",
       "</table>\n",
       "</div>"
      ],
      "text/plain": [
       "            tempo    tipo    user_id versao\n",
       "14  1478566685968  inicio  968803455      B"
      ]
     },
     "execution_count": 11,
     "metadata": {},
     "output_type": "execute_result"
    }
   ],
   "source": [
    "grupo1.sort_values(by=\"tempo\")"
   ]
  },
  {
   "cell_type": "code",
   "execution_count": 12,
   "metadata": {
    "collapsed": true
   },
   "outputs": [],
   "source": [
    "dataframe_resumo = pd.DataFrame.from_records(resultados)"
   ]
  },
  {
   "cell_type": "code",
   "execution_count": 13,
   "metadata": {
    "collapsed": true
   },
   "outputs": [],
   "source": [
    "# Convertendo milissegundos em segundos\n",
    "dataframe_resumo.delta_t1/=1000 \n",
    "dataframe_resumo.delta_t2/=1000 "
   ]
  },
  {
   "cell_type": "code",
   "execution_count": 14,
   "metadata": {
    "collapsed": false
   },
   "outputs": [
    {
     "data": {
      "text/html": [
       "<div>\n",
       "<table border=\"1\" class=\"dataframe\">\n",
       "  <thead>\n",
       "    <tr style=\"text-align: right;\">\n",
       "      <th></th>\n",
       "      <th>delta_t1</th>\n",
       "      <th>delta_t2</th>\n",
       "      <th>user_id</th>\n",
       "      <th>versao</th>\n",
       "    </tr>\n",
       "  </thead>\n",
       "  <tbody>\n",
       "    <tr>\n",
       "      <th>0</th>\n",
       "      <td>8.994</td>\n",
       "      <td>6.859</td>\n",
       "      <td>1561760900</td>\n",
       "      <td>A</td>\n",
       "    </tr>\n",
       "    <tr>\n",
       "      <th>1</th>\n",
       "      <td>2.100</td>\n",
       "      <td>9.034</td>\n",
       "      <td>3789181448</td>\n",
       "      <td>A</td>\n",
       "    </tr>\n",
       "    <tr>\n",
       "      <th>2</th>\n",
       "      <td>2.040</td>\n",
       "      <td>4.632</td>\n",
       "      <td>3141974280</td>\n",
       "      <td>A</td>\n",
       "    </tr>\n",
       "    <tr>\n",
       "      <th>3</th>\n",
       "      <td>3.058</td>\n",
       "      <td>2.500</td>\n",
       "      <td>226968087</td>\n",
       "      <td>A</td>\n",
       "    </tr>\n",
       "    <tr>\n",
       "      <th>4</th>\n",
       "      <td>2.563</td>\n",
       "      <td>6.325</td>\n",
       "      <td>226968087</td>\n",
       "      <td>B</td>\n",
       "    </tr>\n",
       "    <tr>\n",
       "      <th>5</th>\n",
       "      <td>2.173</td>\n",
       "      <td>7.642</td>\n",
       "      <td>280871320</td>\n",
       "      <td>B</td>\n",
       "    </tr>\n",
       "    <tr>\n",
       "      <th>6</th>\n",
       "      <td>234.291</td>\n",
       "      <td>8.446</td>\n",
       "      <td>2498306715</td>\n",
       "      <td>A</td>\n",
       "    </tr>\n",
       "    <tr>\n",
       "      <th>7</th>\n",
       "      <td>59.415</td>\n",
       "      <td>36.845</td>\n",
       "      <td>1154051230</td>\n",
       "      <td>A</td>\n",
       "    </tr>\n",
       "    <tr>\n",
       "      <th>8</th>\n",
       "      <td>2.231</td>\n",
       "      <td>3.344</td>\n",
       "      <td>3946099743</td>\n",
       "      <td>A</td>\n",
       "    </tr>\n",
       "    <tr>\n",
       "      <th>9</th>\n",
       "      <td>2.551</td>\n",
       "      <td>20.987</td>\n",
       "      <td>3946099743</td>\n",
       "      <td>B</td>\n",
       "    </tr>\n",
       "    <tr>\n",
       "      <th>10</th>\n",
       "      <td>5.733</td>\n",
       "      <td>7.979</td>\n",
       "      <td>3649128606</td>\n",
       "      <td>B</td>\n",
       "    </tr>\n",
       "    <tr>\n",
       "      <th>11</th>\n",
       "      <td>57003.728</td>\n",
       "      <td>56962.655</td>\n",
       "      <td>3167377320</td>\n",
       "      <td>A</td>\n",
       "    </tr>\n",
       "    <tr>\n",
       "      <th>12</th>\n",
       "      <td>1.569</td>\n",
       "      <td>5.784</td>\n",
       "      <td>278835118</td>\n",
       "      <td>B</td>\n",
       "    </tr>\n",
       "    <tr>\n",
       "      <th>13</th>\n",
       "      <td>2.521</td>\n",
       "      <td>2.327</td>\n",
       "      <td>3187205062</td>\n",
       "      <td>A</td>\n",
       "    </tr>\n",
       "    <tr>\n",
       "      <th>14</th>\n",
       "      <td>968527.686</td>\n",
       "      <td>7.271</td>\n",
       "      <td>3187205062</td>\n",
       "      <td>B</td>\n",
       "    </tr>\n",
       "    <tr>\n",
       "      <th>15</th>\n",
       "      <td>3.453</td>\n",
       "      <td>5.745</td>\n",
       "      <td>2463145929</td>\n",
       "      <td>A</td>\n",
       "    </tr>\n",
       "    <tr>\n",
       "      <th>16</th>\n",
       "      <td>1.627</td>\n",
       "      <td>3.273</td>\n",
       "      <td>328675274</td>\n",
       "      <td>B</td>\n",
       "    </tr>\n",
       "    <tr>\n",
       "      <th>17</th>\n",
       "      <td>3.014</td>\n",
       "      <td>6.438</td>\n",
       "      <td>105061458</td>\n",
       "      <td>A</td>\n",
       "    </tr>\n",
       "    <tr>\n",
       "      <th>18</th>\n",
       "      <td>4.431</td>\n",
       "      <td>8.263</td>\n",
       "      <td>3309030230</td>\n",
       "      <td>B</td>\n",
       "    </tr>\n",
       "    <tr>\n",
       "      <th>19</th>\n",
       "      <td>4.790</td>\n",
       "      <td>8.302</td>\n",
       "      <td>637707993</td>\n",
       "      <td>B</td>\n",
       "    </tr>\n",
       "    <tr>\n",
       "      <th>20</th>\n",
       "      <td>2.120</td>\n",
       "      <td>3.238</td>\n",
       "      <td>931274072</td>\n",
       "      <td>A</td>\n",
       "    </tr>\n",
       "    <tr>\n",
       "      <th>21</th>\n",
       "      <td>4.028</td>\n",
       "      <td>4.649</td>\n",
       "      <td>931274072</td>\n",
       "      <td>B</td>\n",
       "    </tr>\n",
       "    <tr>\n",
       "      <th>22</th>\n",
       "      <td>-32.164</td>\n",
       "      <td>24.295</td>\n",
       "      <td>1077501661</td>\n",
       "      <td>A</td>\n",
       "    </tr>\n",
       "    <tr>\n",
       "      <th>23</th>\n",
       "      <td>8.469</td>\n",
       "      <td>6.104</td>\n",
       "      <td>2299771869</td>\n",
       "      <td>B</td>\n",
       "    </tr>\n",
       "    <tr>\n",
       "      <th>24</th>\n",
       "      <td>4.908</td>\n",
       "      <td>2.929</td>\n",
       "      <td>1952057959</td>\n",
       "      <td>A</td>\n",
       "    </tr>\n",
       "    <tr>\n",
       "      <th>25</th>\n",
       "      <td>2611.507</td>\n",
       "      <td>2613.658</td>\n",
       "      <td>1952057959</td>\n",
       "      <td>B</td>\n",
       "    </tr>\n",
       "    <tr>\n",
       "      <th>26</th>\n",
       "      <td>22.510</td>\n",
       "      <td>52.041</td>\n",
       "      <td>521147624</td>\n",
       "      <td>B</td>\n",
       "    </tr>\n",
       "    <tr>\n",
       "      <th>27</th>\n",
       "      <td>7.474</td>\n",
       "      <td>15.555</td>\n",
       "      <td>1437971819</td>\n",
       "      <td>B</td>\n",
       "    </tr>\n",
       "    <tr>\n",
       "      <th>28</th>\n",
       "      <td>5.960</td>\n",
       "      <td>2.725</td>\n",
       "      <td>3774183163</td>\n",
       "      <td>A</td>\n",
       "    </tr>\n",
       "    <tr>\n",
       "      <th>29</th>\n",
       "      <td>768.939</td>\n",
       "      <td>767.657</td>\n",
       "      <td>3774183163</td>\n",
       "      <td>B</td>\n",
       "    </tr>\n",
       "  </tbody>\n",
       "</table>\n",
       "</div>"
      ],
      "text/plain": [
       "      delta_t1   delta_t2     user_id versao\n",
       "0        8.994      6.859  1561760900      A\n",
       "1        2.100      9.034  3789181448      A\n",
       "2        2.040      4.632  3141974280      A\n",
       "3        3.058      2.500   226968087      A\n",
       "4        2.563      6.325   226968087      B\n",
       "5        2.173      7.642   280871320      B\n",
       "6      234.291      8.446  2498306715      A\n",
       "7       59.415     36.845  1154051230      A\n",
       "8        2.231      3.344  3946099743      A\n",
       "9        2.551     20.987  3946099743      B\n",
       "10       5.733      7.979  3649128606      B\n",
       "11   57003.728  56962.655  3167377320      A\n",
       "12       1.569      5.784   278835118      B\n",
       "13       2.521      2.327  3187205062      A\n",
       "14  968527.686      7.271  3187205062      B\n",
       "15       3.453      5.745  2463145929      A\n",
       "16       1.627      3.273   328675274      B\n",
       "17       3.014      6.438   105061458      A\n",
       "18       4.431      8.263  3309030230      B\n",
       "19       4.790      8.302   637707993      B\n",
       "20       2.120      3.238   931274072      A\n",
       "21       4.028      4.649   931274072      B\n",
       "22     -32.164     24.295  1077501661      A\n",
       "23       8.469      6.104  2299771869      B\n",
       "24       4.908      2.929  1952057959      A\n",
       "25    2611.507   2613.658  1952057959      B\n",
       "26      22.510     52.041   521147624      B\n",
       "27       7.474     15.555  1437971819      B\n",
       "28       5.960      2.725  3774183163      A\n",
       "29     768.939    767.657  3774183163      B"
      ]
     },
     "execution_count": 14,
     "metadata": {},
     "output_type": "execute_result"
    }
   ],
   "source": [
    "dataframe_resumo"
   ]
  },
  {
   "cell_type": "markdown",
   "metadata": {},
   "source": [
    "Depois separamos os dados corretos para cada interface, assim poderá ser analisado e comparado um com o outro:"
   ]
  },
  {
   "cell_type": "code",
   "execution_count": 15,
   "metadata": {
    "collapsed": true
   },
   "outputs": [
    {
     "name": "stdout",
     "output_type": "stream",
     "text": [
      "      delta_t1   delta_t2     user_id versao\n",
      "0        8.994      6.859  1561760900      A\n",
      "1        2.100      9.034  3789181448      A\n",
      "2        2.040      4.632  3141974280      A\n",
      "3        3.058      2.500   226968087      A\n",
      "4        2.563      6.325   226968087      B\n",
      "5        2.173      7.642   280871320      B\n",
      "6      234.291      8.446  2498306715      A\n",
      "7       59.415     36.845  1154051230      A\n",
      "8        2.231      3.344  3946099743      A\n",
      "9        2.551     20.987  3946099743      B\n",
      "10       5.733      7.979  3649128606      B\n",
      "11   57003.728  56962.655  3167377320      A\n",
      "12       1.569      5.784   278835118      B\n",
      "13       2.521      2.327  3187205062      A\n",
      "14  968527.686      7.271  3187205062      B\n",
      "15       3.453      5.745  2463145929      A\n",
      "16       1.627      3.273   328675274      B\n",
      "17       3.014      6.438   105061458      A\n",
      "18       4.431      8.263  3309030230      B\n",
      "19       4.790      8.302   637707993      B\n",
      "20       2.120      3.238   931274072      A\n",
      "21       4.028      4.649   931274072      B\n",
      "22     -32.164     24.295  1077501661      A\n",
      "23       8.469      6.104  2299771869      B\n",
      "24       4.908      2.929  1952057959      A\n",
      "25    2611.507   2613.658  1952057959      B\n",
      "26      22.510     52.041   521147624      B\n",
      "27       7.474     15.555  1437971819      B\n",
      "28       5.960      2.725  3774183163      A\n",
      "29     768.939    767.657  3774183163      B\n",
      "    delta_t1  delta_t2     user_id versao\n",
      "0      8.994     6.859  1561760900      A\n",
      "1      2.100     9.034  3789181448      A\n",
      "2      2.040     4.632  3141974280      A\n",
      "3      3.058     2.500   226968087      A\n",
      "7     59.415    36.845  1154051230      A\n",
      "8      2.231     3.344  3946099743      A\n",
      "13     2.521     2.327  3187205062      A\n",
      "15     3.453     5.745  2463145929      A\n",
      "17     3.014     6.438   105061458      A\n",
      "20     2.120     3.238   931274072      A\n",
      "24     4.908     2.929  1952057959      A\n",
      "28     5.960     2.725  3774183163      A\n",
      "    delta_t1  delta_t2     user_id versao\n",
      "4      2.563     6.325   226968087      B\n",
      "5      2.173     7.642   280871320      B\n",
      "9      2.551    20.987  3946099743      B\n",
      "10     5.733     7.979  3649128606      B\n",
      "12     1.569     5.784   278835118      B\n",
      "16     1.627     3.273   328675274      B\n",
      "18     4.431     8.263  3309030230      B\n",
      "19     4.790     8.302   637707993      B\n",
      "21     4.028     4.649   931274072      B\n",
      "23     8.469     6.104  2299771869      B\n",
      "26    22.510    52.041   521147624      B\n",
      "27     7.474    15.555  1437971819      B\n"
     ]
    }
   ],
   "source": [
    "resultados_A=dataframe_resumo.query('versao == \"A\" and delta_t1 < 100 and delta_t1>0')\n",
    "resultados_B=dataframe_resumo.query('versao == \"B\" and delta_t1 < 100 and delta_t1>0')\n",
    "print(dataframe_resumo)\n",
    "print(resultados_A)\n",
    "print(resultados_B)"
   ]
  },
  {
   "cell_type": "markdown",
   "metadata": {
    "collapsed": true
   },
   "source": [
    "### Análise Descritiva"
   ]
  },
  {
   "cell_type": "markdown",
   "metadata": {},
   "source": [
    "Até então, temos os dados que serão analisados, já separamos para cada tipo de interface. A inicio de análise, começaremos plotando vários histogramas, o primeiro histograma está tudo junto, assim a visualização e a interpretação fica mais complicado."
   ]
  },
  {
   "cell_type": "code",
   "execution_count": 16,
   "metadata": {
    "collapsed": false
   },
   "outputs": [
    {
     "data": {
      "text/plain": [
       "[0, 60, 0, 5]"
      ]
     },
     "execution_count": 16,
     "metadata": {},
     "output_type": "execute_result"
    },
    {
     "data": {
      "image/png": "[encoded data removed]",
      "text/plain": [
       "<matplotlib.figure.Figure at 0x1a2d8c2d438>"
      ]
     },
     "metadata": {},
     "output_type": "display_data"
    }
   ],
   "source": [
    "tempos_A2 = list(resultados_A[resultados_A.versao==\"A\"].delta_t2)\n",
    "tempos_A1 = list(resultados_A[resultados_A.versao==\"A\"].delta_t1)\n",
    "tempos_B1 = list(resultados_B[resultados_B.versao==\"B\"].delta_t1)\n",
    "tempos_B2 = list(resultados_B[resultados_B.versao==\"B\"].delta_t2)\n",
    "plt.hist(tempos_B1, bins=60, alpha=0.5,color=\"blue\")\n",
    "plt.hist(tempos_B2, bins=60, alpha=0.5, color=\"cyan\")\n",
    "plt.hist(tempos_A1, bins=60, color=\"red\")\n",
    "plt.hist(tempos_A2, bins=60, color=\"purple\")\n",
    "\n",
    "plt.axis([0,60,0,5])"
   ]
  },
  {
   "cell_type": "markdown",
   "metadata": {},
   "source": [
    "Assim, para melhor interpretação, iremos plotar vários histogramas diferentes, comparando o tempo na primeira página com a segunda para as interfaces A e B e comparar A e B em relação a cada página. A seguir estamos comparando o tempo da primeira página da interface A e o tempo da segunda página da interface A:"
   ]
  },
  {
   "cell_type": "code",
   "execution_count": 17,
   "metadata": {
    "collapsed": false
   },
   "outputs": [
    {
     "data": {
      "text/plain": [
       "[0, 60, 0, 5]"
      ]
     },
     "execution_count": 17,
     "metadata": {},
     "output_type": "execute_result"
    },
    {
     "data": {
      "image/png": "[encoded data removed]",
      "text/plain": [
       "<matplotlib.figure.Figure at 0x1a2d8bfc198>"
      ]
     },
     "metadata": {},
     "output_type": "display_data"
    }
   ],
   "source": [
    "tempos_A2 = list(resultados_A[resultados_A.versao==\"A\"].delta_t2)\n",
    "tempos_A1 = list(resultados_A[resultados_A.versao==\"A\"].delta_t1)\n",
    "plt.hist(tempos_A1, bins=60, color=\"red\")\n",
    "plt.hist(tempos_A2, bins=60, color=\"purple\")\n",
    "\n",
    "plt.axis([0,60,0,5])"
   ]
  },
  {
   "cell_type": "markdown",
   "metadata": {},
   "source": [
    "Podemos descobrir com esse primeiro histograma que temos poucos dados, alguns fora da média, porém já podemos ter uma ideia em relação ao tempo da primeira página da interface A, percebemos que ela tem um grande número perto de zero, bem maior em relação ao da segunda página, o que podemos dizer que foi encontrado o item na página 1 com a interface A mais rápida do que na página 2. Mas mesmo assim não conseguimos determinar qual tem uma média de tempo melhor que a outra e fazendo a interpretação dessa maneira pode gerar conclusões confusas e sem base. Assim procuraremos implementar esses dados."
   ]
  },
  {
   "cell_type": "markdown",
   "metadata": {},
   "source": [
    "Isso foi repetido novamente com a interface B, comparamos o seu tempo na primeira página com a segunda e podemos ver isso a seguir:"
   ]
  },
  {
   "cell_type": "code",
   "execution_count": 18,
   "metadata": {
    "collapsed": false
   },
   "outputs": [
    {
     "data": {
      "text/plain": [
       "[0, 60, 0, 5]"
      ]
     },
     "execution_count": 18,
     "metadata": {},
     "output_type": "execute_result"
    },
    {
     "data": {
      "image/png": "[encoded data removed]",
      "text/plain": [
       "<matplotlib.figure.Figure at 0x1a2da88c390>"
      ]
     },
     "metadata": {},
     "output_type": "display_data"
    }
   ],
   "source": [
    "tempos_B1 = list(resultados_B[resultados_B.versao==\"B\"].delta_t1)\n",
    "tempos_B2 = list(resultados_B[resultados_B.versao==\"B\"].delta_t2)\n",
    "plt.hist(tempos_B1, bins=60, alpha=0.5,color=\"blue\")\n",
    "plt.hist(tempos_B2, bins=60, alpha=0.5, color=\"cyan\")\n",
    "\n",
    "\n",
    "plt.axis([0,60,0,5])"
   ]
  },
  {
   "cell_type": "markdown",
   "metadata": {},
   "source": [
    "Podemos ver que para o tempo da segunda página da interface B esta mais concentrado um pouco longe de zero, sendo o tempo da primeira página concentrado mais proximo de zero, podemos dizer que na maioria das vezes, foi mais fácil encontrar o item na página um do que na página dois. Mesmo assim, teremos o mesmo problema encontrado no primeiro histograma, é dificil tirar conclusões de algo ainda simples. Dessa maneira partiremos para algo que dá mais detalhe da lista, que é a contrução de boxplots e usando a função describe para dar detalhes das nossas amostras."
   ]
  },
  {
   "cell_type": "markdown",
   "metadata": {},
   "source": [
    "Mas antes de fazer essa análise descritiva mais confiável, será disponivel a seguir mais duas comparações, Tempo da página 1 pela interface A e pela interface B e Tempo da página 2 pela interface A e pela interface B. Podemos tirar certas conclusões mas elas não são muito confiáveis, assim podemos avançar para a construção dos boxplots e o uso do describe."
   ]
  },
  {
   "cell_type": "code",
   "execution_count": 19,
   "metadata": {
    "collapsed": false
   },
   "outputs": [
    {
     "data": {
      "text/plain": [
       "[0, 60, 0, 5]"
      ]
     },
     "execution_count": 19,
     "metadata": {},
     "output_type": "execute_result"
    },
    {
     "data": {
      "image/png": "[encoded data removed]",
      "text/plain": [
       "<matplotlib.figure.Figure at 0x1a2d92252b0>"
      ]
     },
     "metadata": {},
     "output_type": "display_data"
    }
   ],
   "source": [
    "tempos_A1 = list(resultados_A[resultados_A.versao==\"A\"].delta_t1)\n",
    "tempos_B1 = list(resultados_B[resultados_B.versao==\"B\"].delta_t1)\n",
    "plt.hist(tempos_B1, bins=60, alpha=0.5,color=\"blue\")\n",
    "plt.hist(tempos_A1, bins=60, color=\"red\")\n",
    "\n",
    "plt.axis([0,60,0,5])"
   ]
  },
  {
   "cell_type": "code",
   "execution_count": 20,
   "metadata": {
    "collapsed": false
   },
   "outputs": [
    {
     "data": {
      "text/plain": [
       "[0, 60, 0, 5]"
      ]
     },
     "execution_count": 20,
     "metadata": {},
     "output_type": "execute_result"
    },
    {
     "data": {
      "image/png": "[encoded data removed]",
      "text/plain": [
       "<matplotlib.figure.Figure at 0x1a2d92256d8>"
      ]
     },
     "metadata": {},
     "output_type": "display_data"
    }
   ],
   "source": [
    "tempos_A2 = list(resultados_A[resultados_A.versao==\"A\"].delta_t2)\n",
    "tempos_B2 = list(resultados_B[resultados_B.versao==\"B\"].delta_t2)\n",
    "plt.hist(tempos_B2, bins=60, alpha=0.5, color=\"cyan\")\n",
    "plt.hist(tempos_A2, bins=60, color=\"purple\")\n",
    "\n",
    "plt.axis([0,60,0,5])"
   ]
  },
  {
   "cell_type": "markdown",
   "metadata": {},
   "source": [
    "A seguir estão montados todos os boxplots com seus respectivos detalhes, temos a seguir os boxplots para: Tempo gasto na primeira página da Interface A, Tempo gasto na segunda página da Interface A, tempo gasto na primeira página da Interface B e tempo gasto na segunda página da interface B. Vamos colocar todos de uma vez para em seguida fazer as comparações, interpretar e tirar concluções na análise descritiva."
   ]
  },
  {
   "cell_type": "code",
   "execution_count": 21,
   "metadata": {
    "collapsed": false
   },
   "outputs": [
    {
     "data": {
      "text/plain": [
       "count    12.000000\n",
       "mean      8.317833\n",
       "std      16.223344\n",
       "min       2.040000\n",
       "25%       2.203250\n",
       "50%       3.036000\n",
       "75%       5.171000\n",
       "max      59.415000\n",
       "Name: delta_t1, dtype: float64"
      ]
     },
     "execution_count": 21,
     "metadata": {},
     "output_type": "execute_result"
    },
    {
     "data": {
      "image/png": "[encoded data removed]",
      "text/plain": [
       "<matplotlib.figure.Figure at 0x1a2d59d3710>"
      ]
     },
     "metadata": {},
     "output_type": "display_data"
    }
   ],
   "source": [
    "resultados_A.boxplot(column = \"delta_t1\", by = \"versao\")\n",
    "plt.ylim(0, 20)\n",
    "resultados_A.delta_t1.describe()"
   ]
  },
  {
   "cell_type": "code",
   "execution_count": 22,
   "metadata": {
    "collapsed": false
   },
   "outputs": [
    {
     "data": {
      "text/plain": [
       "count    12.00000\n",
       "mean      7.21800\n",
       "std       9.56444\n",
       "min       2.32700\n",
       "25%       2.87800\n",
       "50%       3.98800\n",
       "75%       6.54325\n",
       "max      36.84500\n",
       "Name: delta_t2, dtype: float64"
      ]
     },
     "execution_count": 22,
     "metadata": {},
     "output_type": "execute_result"
    },
    {
     "data": {
      "image/png": "[encoded data removed]",
      "text/plain": [
       "<matplotlib.figure.Figure at 0x1a2da8202b0>"
      ]
     },
     "metadata": {},
     "output_type": "display_data"
    }
   ],
   "source": [
    "resultados_A.boxplot(column = \"delta_t2\", by = \"versao\")\n",
    "plt.ylim(0, 20)\n",
    "resultados_A.delta_t2.describe()"
   ]
  },
  {
   "cell_type": "code",
   "execution_count": 23,
   "metadata": {
    "collapsed": false
   },
   "outputs": [
    {
     "data": {
      "text/plain": [
       "count    12.000000\n",
       "mean      5.659833\n",
       "std       5.756084\n",
       "min       1.569000\n",
       "25%       2.456500\n",
       "50%       4.229500\n",
       "75%       6.168250\n",
       "max      22.510000\n",
       "Name: delta_t1, dtype: float64"
      ]
     },
     "execution_count": 23,
     "metadata": {},
     "output_type": "execute_result"
    },
    {
     "data": {
      "image/png": "[encoded data removed]",
      "text/plain": [
       "<matplotlib.figure.Figure at 0x1a2dac95518>"
      ]
     },
     "metadata": {},
     "output_type": "display_data"
    }
   ],
   "source": [
    "resultados_B.boxplot(column = \"delta_t1\", by = \"versao\")\n",
    "plt.ylim(0, 20)\n",
    "resultados_B.delta_t1.describe()"
   ]
  },
  {
   "cell_type": "code",
   "execution_count": 24,
   "metadata": {
    "collapsed": false
   },
   "outputs": [
    {
     "data": {
      "text/plain": [
       "count    12.000000\n",
       "mean     12.242000\n",
       "std      13.465744\n",
       "min       3.273000\n",
       "25%       6.024000\n",
       "50%       7.810500\n",
       "75%      10.115250\n",
       "max      52.041000\n",
       "Name: delta_t2, dtype: float64"
      ]
     },
     "execution_count": 24,
     "metadata": {},
     "output_type": "execute_result"
    },
    {
     "data": {
      "image/png": "[encoded data removed]",
      "text/plain": [
       "<matplotlib.figure.Figure at 0x1a2dab16e80>"
      ]
     },
     "metadata": {},
     "output_type": "display_data"
    }
   ],
   "source": [
    "resultados_B.boxplot(column = \"delta_t2\", by = \"versao\")\n",
    "plt.ylim(0, 20)\n",
    "resultados_B.delta_t2.describe()"
   ]
  },
  {
   "cell_type": "markdown",
   "metadata": {},
   "source": [
    "As comparações que podemos fazer são:"
   ]
  },
  {
   "cell_type": "markdown",
   "metadata": {},
   "source": [
    "###### Tempo da primeira página de A versus Tempo da primeira página de B\n",
    "\n",
    "Podemos perceber que a média de tempo para a interface B é menor que para a interface A, assim podemos concluir que o usuário demora menos tempo para acessar o primeiro item para a interface B, dessa maneira, ela teria uma disposição melhor para se encontrar o item. Como o B está em formato de coluna e o item é um dos primeiros da coluna, ela é visualizado mais rápido do que pela grade onde o usuário está procurando."
   ]
  },
  {
   "cell_type": "markdown",
   "metadata": {},
   "source": [
    "###### Tempo da segunda página de A versus Tempo da segunda página de B\n",
    "\n",
    "Podemos perceber que a média de tempo para a interface A é menor que para a interface B, assim podemos concluir que o usuário demora menos tempo para acessar o primeiro item para a interface A, dessa maneira, ela teria uma disposição melhor para se encontrar o item. Como a quantidade de itens são maiores, e o item a ser procurado está mais abaixo na página B, então o usuário deve descer e procurar o item, enquanto na página A, a disposição em grade mostra todos itens."
   ]
  },
  {
   "cell_type": "markdown",
   "metadata": {},
   "source": [
    "###### Tempo da primeira página de A versus Tempo da segunda página de A\n",
    "\n",
    "Ao observar as médias entre os tempo da primeira página e o tempo da segunda página, na versão A, vemos que a diferença entre os tempos são bem pequenos, isso ocorre devido, aos itens estarem em grade, e na mesma tela. O que mostra que para este modelo, o usuário consegue encontrar os itens de uma forma simples."
   ]
  },
  {
   "cell_type": "markdown",
   "metadata": {},
   "source": [
    "###### Tempo da primeira página de B versus Tempo da segunda página de B\n",
    "\n",
    "Podemos perceber que a média do tempo da primeira página é menor que para o tempo da segunda página, na versão B, diferentemente da conclusão logo acima, o que mostra que ao disponibilizar os itens em coluna, temos o problema que o usuário deve rolar a página para baixo para procurar, levando maior tempo de procura."
   ]
  },
  {
   "cell_type": "markdown",
   "metadata": {
    "collapsed": true
   },
   "source": [
    "### Análise Inferencial"
   ]
  },
  {
   "cell_type": "markdown",
   "metadata": {},
   "source": [
    "Agora partiremos para a análise inferencial, na análise inferencial estaremos utilizando as informações da nossa amostra para chegarmos a uma conclusão da população toda. Para termos uma noção da população inteira, utilizaremos a distribuição de média amostral, que é pegarmos a nossa amostra, retirar dados dela aleatoriamente, calcular a média das amostras e colocar em um novo histograma. A seguir já estará definida a distribuição de média amostral do tempo na página 1 e 2 das interfaces A e B, além disso colocamos a média e a variância dessas distribuições. "
   ]
  },
  {
   "cell_type": "code",
   "execution_count": 25,
   "metadata": {
    "collapsed": false
   },
   "outputs": [
    {
     "data": {
      "text/plain": [
       "(array([  4.86510681e-04,   4.70293658e-03,   1.73522143e-02,\n",
       "          5.27053237e-02,   1.05572818e-01,   1.76441207e-01,\n",
       "          2.29146531e-01,   2.51039511e-01,   2.37255042e-01,\n",
       "          2.00928911e-01,   1.46277545e-01,   9.30857102e-02,\n",
       "          5.74082603e-02,   2.74067683e-02,   1.28114479e-02,\n",
       "          5.83812817e-03,   2.10821295e-03,   8.10851134e-04,\n",
       "          1.62170227e-04,   1.62170227e-04]),\n",
       " array([  3.35257 ,   3.969206,   4.585842,   5.202478,   5.819114,\n",
       "          6.43575 ,   7.052386,   7.669022,   8.285658,   8.902294,\n",
       "          9.51893 ,  10.135566,  10.752202,  11.368838,  11.985474,\n",
       "         12.60211 ,  13.218746,  13.835382,  14.452018,  15.068654,\n",
       "         15.68529 ]),\n",
       " <a list of 20 Patch objects>)"
      ]
     },
     "execution_count": 25,
     "metadata": {},
     "output_type": "execute_result"
    },
    {
     "data": {
      "image/png": "[encoded data removed]",
      "text/plain": [
       "<matplotlib.figure.Figure at 0x1a2dab8ff98>"
      ]
     },
     "metadata": {},
     "output_type": "display_data"
    }
   ],
   "source": [
    "mediaA_t1 = []\n",
    "for i in range(10000):\n",
    "    mediaA_t1.append(np.mean(np.random.choice(resultados_A.delta_t1,size = 100)))\n",
    "x_barra = pd.Series(mediaA_t1)\n",
    "plt.hist(x_barra, bins = 20, normed = 1)"
   ]
  },
  {
   "cell_type": "code",
   "execution_count": 26,
   "metadata": {
    "collapsed": false
   },
   "outputs": [
    {
     "name": "stdout",
     "output_type": "stream",
     "text": [
      "média: 8.30052031199996\n",
      "variância: 2.4131451754103086\n"
     ]
    }
   ],
   "source": [
    "mediaA_t1 = pd.Series(mediaA_t1)\n",
    "print(\"média:\",mediaA_t1.mean())\n",
    "print(\"variância:\",mediaA_t1.var())"
   ]
  },
  {
   "cell_type": "code",
   "execution_count": 27,
   "metadata": {
    "collapsed": false
   },
   "outputs": [
    {
     "data": {
      "text/plain": [
       "(array([ 0.00149654,  0.0041903 ,  0.01646189,  0.06345311,  0.13289235,\n",
       "         0.22986786,  0.33911495,  0.39059577,  0.43908352,  0.40107152,\n",
       "         0.33342811,  0.24662905,  0.17569327,  0.10655333,  0.05537181,\n",
       "         0.03082863,  0.01556397,  0.00778198,  0.00179584,  0.00119723]),\n",
       " array([  4.25814 ,   4.592245,   4.92635 ,   5.260455,   5.59456 ,\n",
       "          5.928665,   6.26277 ,   6.596875,   6.93098 ,   7.265085,\n",
       "          7.59919 ,   7.933295,   8.2674  ,   8.601505,   8.93561 ,\n",
       "          9.269715,   9.60382 ,   9.937925,  10.27203 ,  10.606135,\n",
       "         10.94024 ]),\n",
       " <a list of 20 Patch objects>)"
      ]
     },
     "execution_count": 27,
     "metadata": {},
     "output_type": "execute_result"
    },
    {
     "data": {
      "image/png": "[encoded data removed]",
      "text/plain": [
       "<matplotlib.figure.Figure at 0x1a2da83ccc0>"
      ]
     },
     "metadata": {},
     "output_type": "display_data"
    }
   ],
   "source": [
    "mediaA_t2 = []\n",
    "for i in range(10000):\n",
    "    mediaA_t2.append(np.mean(np.random.choice(resultados_A.delta_t2,size = 100)))\n",
    "x_barra2 = pd.Series(mediaA_t2)\n",
    "plt.hist(x_barra2, bins = 20, normed = 1)"
   ]
  },
  {
   "cell_type": "code",
   "execution_count": 28,
   "metadata": {
    "collapsed": false
   },
   "outputs": [
    {
     "name": "stdout",
     "output_type": "stream",
     "text": [
      "média: 7.217191422000031\n",
      "variância: 0.8435808956913663\n"
     ]
    }
   ],
   "source": [
    "mediaA_t2 = pd.Series(mediaA_t2)\n",
    "print(\"média:\",mediaA_t2.mean())\n",
    "print(\"variância:\",mediaA_t2.var())"
   ]
  },
  {
   "cell_type": "code",
   "execution_count": 29,
   "metadata": {
    "collapsed": false
   },
   "outputs": [
    {
     "data": {
      "text/plain": [
       "(array([ 0.00094842,  0.00711313,  0.03319463,  0.09579021,  0.18636412,\n",
       "         0.381264  ,  0.57284442,  0.65867625,  0.71605553,  0.67954144,\n",
       "         0.53585613,  0.35613093,  0.24611445,  0.14510794,  0.06923451,\n",
       "         0.03414305,  0.01327785,  0.00711313,  0.00237104,  0.00094842]),\n",
       " array([ 3.82909  ,  4.0399675,  4.250845 ,  4.4617225,  4.6726   ,\n",
       "         4.8834775,  5.094355 ,  5.3052325,  5.51611  ,  5.7269875,\n",
       "         5.937865 ,  6.1487425,  6.35962  ,  6.5704975,  6.781375 ,\n",
       "         6.9922525,  7.20313  ,  7.4140075,  7.624885 ,  7.8357625,  8.04664  ]),\n",
       " <a list of 20 Patch objects>)"
      ]
     },
     "execution_count": 29,
     "metadata": {},
     "output_type": "execute_result"
    },
    {
     "data": {
      "image/png": "[encoded data removed]",
      "text/plain": [
       "<matplotlib.figure.Figure at 0x1a2dab59ac8>"
      ]
     },
     "metadata": {},
     "output_type": "display_data"
    }
   ],
   "source": [
    "mediaB_t1 = []\n",
    "for i in range(10000):\n",
    "    mediaB_t1.append(np.mean(np.random.choice(resultados_B.delta_t1,size = 100)))\n",
    "x_barra3 = pd.Series(mediaB_t1)\n",
    "plt.hist(x_barra3, bins = 20, normed = 1)"
   ]
  },
  {
   "cell_type": "code",
   "execution_count": 30,
   "metadata": {
    "collapsed": false
   },
   "outputs": [
    {
     "name": "stdout",
     "output_type": "stream",
     "text": [
      "média: 5.663390363000001\n",
      "variância: 0.30358470445512503\n"
     ]
    }
   ],
   "source": [
    "mediaB_t1 = pd.Series(mediaB_t1)\n",
    "print(\"média:\",mediaB_t1.mean())\n",
    "print(\"variância:\",mediaB_t1.var())"
   ]
  },
  {
   "cell_type": "code",
   "execution_count": 31,
   "metadata": {
    "collapsed": false
   },
   "outputs": [
    {
     "data": {
      "text/plain": [
       "(array([  4.72504193e-03,   1.59470165e-02,   4.54785286e-02,\n",
       "          1.06116567e-01,   1.83095375e-01,   2.58105416e-01,\n",
       "          2.95905751e-01,   3.01615177e-01,   2.54167881e-01,\n",
       "          2.03570557e-01,   1.42341888e-01,   7.79631919e-02,\n",
       "          4.27222542e-02,   2.16564422e-02,   7.67819314e-03,\n",
       "          5.11879543e-03,   1.77189073e-03,   5.90630242e-04,\n",
       "          0.00000000e+00,   1.96876747e-04]),\n",
       " array([  8.48536 ,   8.993292,   9.501224,  10.009156,  10.517088,\n",
       "         11.02502 ,  11.532952,  12.040884,  12.548816,  13.056748,\n",
       "         13.56468 ,  14.072612,  14.580544,  15.088476,  15.596408,\n",
       "         16.10434 ,  16.612272,  17.120204,  17.628136,  18.136068,  18.644   ]),\n",
       " <a list of 20 Patch objects>)"
      ]
     },
     "execution_count": 31,
     "metadata": {},
     "output_type": "execute_result"
    },
    {
     "data": {
      "image/png": "[encoded data removed]",
      "text/plain": [
       "<matplotlib.figure.Figure at 0x1a2d8fff198>"
      ]
     },
     "metadata": {},
     "output_type": "display_data"
    }
   ],
   "source": [
    "mediaB_t2 = []\n",
    "for i in range(10000):\n",
    "    mediaB_t2.append(np.mean(np.random.choice(resultados_B.delta_t2,size = 100)))\n",
    "x_barra4 = pd.Series(mediaB_t2)\n",
    "plt.hist(x_barra4, bins = 20, normed = 1)"
   ]
  },
  {
   "cell_type": "code",
   "execution_count": 32,
   "metadata": {
    "collapsed": false
   },
   "outputs": [
    {
     "name": "stdout",
     "output_type": "stream",
     "text": [
      "média: 12.222248671000022\n",
      "variância: 1.6751147944907623\n"
     ]
    }
   ],
   "source": [
    "mediaB_t2 = pd.Series(mediaB_t2)\n",
    "print(\"média:\",mediaB_t2.mean())\n",
    "print(\"variância:\",mediaB_t2.var())"
   ]
  },
  {
   "cell_type": "markdown",
   "metadata": {},
   "source": [
    "O comportamento da população segue o mesmo comportamento da análise descritiva, além disso achamos a variância que determina o intervalo que contem a maior parte das medias amostrais, 63%, de cada situação."
   ]
  },
  {
   "cell_type": "markdown",
   "metadata": {
    "collapsed": true
   },
   "source": [
    "## Conclusão"
   ]
  },
  {
   "cell_type": "markdown",
   "metadata": {
    "collapsed": true
   },
   "source": [
    "Primeiramente, a nossa conclusão deve determinar qual interface foi a melhor, para isso estaremos analisando a média da população de cada interface, como temos duas páginas de navegação temos dois taxas de tempo, para a primeira página e para a segunda. Somando o tempo de t1 mais t2, em A temos que o tempo médio total é de 15,5 segundos e para o B, o tempo médio total é de 17.8 segundos, assim a interface A é mais ágil que a B, porém podemos perceber que a Interface B foi mais rápido na primeira página e o A foi mais rápido na segunda página. Isso pode ser explicado pelo número de itens e onde estava o item que o usuário procurava. \n",
    "\n",
    "No primeiro caso que B é mais rápido que o A é porque o item que o usuario procurava era um dos primeiros da coluna, assim mais facil de visualizar que a grade de A. No segundo caso em que A é mais rápido na segunda página é porque nessa página contem muito itens e para achar o item no A é mais facil pois esta na grade, ja para no B o usuário necessita utilizar o scroll da página, assim demora mais tempo.\n",
    "\n",
    "Em geral a interface A foi melhor que a B, porém ela pode ser mais demorada caso o item seja mais fácil se encontrado pela B."
   ]
  }
 ],
 "metadata": {
  "kernelspec": {
   "display_name": "Python [Root]",
   "language": "python",
   "name": "Python [Root]"
  },
  "language_info": {
   "codemirror_mode": {
    "name": "ipython",
    "version": 3
   },
   "file_extension": ".py",
   "mimetype": "text/x-python",
   "name": "python",
   "nbconvert_exporter": "python",
   "pygments_lexer": "ipython3",
   "version": "3.5.2"
  }
 },
 "nbformat": 4,
 "nbformat_minor": 0
}
